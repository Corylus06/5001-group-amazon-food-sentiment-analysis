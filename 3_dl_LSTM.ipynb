{
 "cells": [
  {
   "cell_type": "markdown",
   "metadata": {},
   "source": [
    "# Amazon Fine Food Reviews Analysis"
   ]
  },
  {
   "cell_type": "markdown",
   "metadata": {},
   "source": [
    "## 1. Import Library"
   ]
  },
  {
   "cell_type": "code",
   "execution_count": 12,
   "metadata": {
    "_cell_guid": "b1076dfc-b9ad-4769-8c92-a6c4dae69d19",
    "_uuid": "8f2839f25d086af736a60e9eeb907d3b93b6e0e5"
   },
   "outputs": [],
   "source": [
    "%matplotlib inline\n",
    "import warnings\n",
    "warnings.filterwarnings(\"ignore\")\n",
    "\n",
    "import numpy as np\n",
    "import pandas as pd\n",
    "pd.set_option('display.max_colwidth', -1)\n",
    "from matplotlib import pyplot as plt\n",
    "import seaborn as sns\n",
    "\n",
    "import keras\n",
    "from keras.layers import Dense, Embedding, LSTM, Dropout\n",
    "from keras.models import Sequential\n",
    "from keras.preprocessing import sequence\n",
    "from keras.preprocessing.text import Tokenizer\n",
    "from tqdm import tqdm\n",
    "\n",
    "import re\n",
    "from bs4 import BeautifulSoup\n",
    "from sklearn.model_selection import train_test_split\n",
    "from sklearn.metrics import f1_score,accuracy_score"
   ]
  },
  {
   "cell_type": "markdown",
   "metadata": {},
   "source": [
    "## 2.Loading Data"
   ]
  },
  {
   "cell_type": "code",
   "execution_count": 2,
   "metadata": {},
   "outputs": [
    {
     "name": "stdout",
     "output_type": "stream",
     "text": [
      "Number of data points in our data (100000, 10)\n"
     ]
    },
    {
     "data": {
      "text/html": [
       "<div>\n",
       "<style scoped>\n",
       "    .dataframe tbody tr th:only-of-type {\n",
       "        vertical-align: middle;\n",
       "    }\n",
       "\n",
       "    .dataframe tbody tr th {\n",
       "        vertical-align: top;\n",
       "    }\n",
       "\n",
       "    .dataframe thead th {\n",
       "        text-align: right;\n",
       "    }\n",
       "</style>\n",
       "<table border=\"1\" class=\"dataframe\">\n",
       "  <thead>\n",
       "    <tr style=\"text-align: right;\">\n",
       "      <th></th>\n",
       "      <th>Id</th>\n",
       "      <th>ProductId</th>\n",
       "      <th>UserId</th>\n",
       "      <th>ProfileName</th>\n",
       "      <th>HelpfulnessNumerator</th>\n",
       "      <th>HelpfulnessDenominator</th>\n",
       "      <th>Score</th>\n",
       "      <th>Time</th>\n",
       "      <th>Summary</th>\n",
       "      <th>Text</th>\n",
       "    </tr>\n",
       "  </thead>\n",
       "  <tbody>\n",
       "    <tr>\n",
       "      <th>0</th>\n",
       "      <td>1</td>\n",
       "      <td>B001E4KFG0</td>\n",
       "      <td>A3SGXH7AUHU8GW</td>\n",
       "      <td>delmartian</td>\n",
       "      <td>1</td>\n",
       "      <td>1</td>\n",
       "      <td>1</td>\n",
       "      <td>1303862400</td>\n",
       "      <td>Good Quality Dog Food</td>\n",
       "      <td>I have bought several of the Vitality canned dog food products and have found them all to be of good quality. The product looks more like a stew than a processed meat and it smells better. My Labrador is finicky and she appreciates this product better than  most.</td>\n",
       "    </tr>\n",
       "    <tr>\n",
       "      <th>1</th>\n",
       "      <td>2</td>\n",
       "      <td>B00813GRG4</td>\n",
       "      <td>A1D87F6ZCVE5NK</td>\n",
       "      <td>dll pa</td>\n",
       "      <td>0</td>\n",
       "      <td>0</td>\n",
       "      <td>0</td>\n",
       "      <td>1346976000</td>\n",
       "      <td>Not as Advertised</td>\n",
       "      <td>Product arrived labeled as Jumbo Salted Peanuts...the peanuts were actually small sized unsalted. Not sure if this was an error or if the vendor intended to represent the product as \"Jumbo\".</td>\n",
       "    </tr>\n",
       "    <tr>\n",
       "      <th>2</th>\n",
       "      <td>3</td>\n",
       "      <td>B000LQOCH0</td>\n",
       "      <td>ABXLMWJIXXAIN</td>\n",
       "      <td>Natalia Corres \"Natalia Corres\"</td>\n",
       "      <td>1</td>\n",
       "      <td>1</td>\n",
       "      <td>1</td>\n",
       "      <td>1219017600</td>\n",
       "      <td>\"Delight\" says it all</td>\n",
       "      <td>This is a confection that has been around a few centuries.  It is a light, pillowy citrus gelatin with nuts - in this case Filberts. And it is cut into tiny squares and then liberally coated with powdered sugar.  And it is a tiny mouthful of heaven.  Not too chewy, and very flavorful.  I highly recommend this yummy treat.  If you are familiar with the story of C.S. Lewis' \"The Lion, The Witch, and The Wardrobe\" - this is the treat that seduces Edmund into selling out his Brother and Sisters to the Witch.</td>\n",
       "    </tr>\n",
       "  </tbody>\n",
       "</table>\n",
       "</div>"
      ],
      "text/plain": [
       "   Id   ProductId          UserId                      ProfileName  \\\n",
       "0  1   B001E4KFG0  A3SGXH7AUHU8GW  delmartian                        \n",
       "1  2   B00813GRG4  A1D87F6ZCVE5NK  dll pa                            \n",
       "2  3   B000LQOCH0  ABXLMWJIXXAIN   Natalia Corres \"Natalia Corres\"   \n",
       "\n",
       "   HelpfulnessNumerator  HelpfulnessDenominator  Score        Time  \\\n",
       "0  1                     1                       1      1303862400   \n",
       "1  0                     0                       0      1346976000   \n",
       "2  1                     1                       1      1219017600   \n",
       "\n",
       "                 Summary  \\\n",
       "0  Good Quality Dog Food   \n",
       "1  Not as Advertised       \n",
       "2  \"Delight\" says it all   \n",
       "\n",
       "                                                                                                                                                                                                                                                                                                                                                                                                                                                                                                                            Text  \n",
       "0  I have bought several of the Vitality canned dog food products and have found them all to be of good quality. The product looks more like a stew than a processed meat and it smells better. My Labrador is finicky and she appreciates this product better than  most.                                                                                                                                                                                                                                                        \n",
       "1  Product arrived labeled as Jumbo Salted Peanuts...the peanuts were actually small sized unsalted. Not sure if this was an error or if the vendor intended to represent the product as \"Jumbo\".                                                                                                                                                                                                                                                                                                                                 \n",
       "2  This is a confection that has been around a few centuries.  It is a light, pillowy citrus gelatin with nuts - in this case Filberts. And it is cut into tiny squares and then liberally coated with powdered sugar.  And it is a tiny mouthful of heaven.  Not too chewy, and very flavorful.  I highly recommend this yummy treat.  If you are familiar with the story of C.S. Lewis' \"The Lion, The Witch, and The Wardrobe\" - this is the treat that seduces Edmund into selling out his Brother and Sisters to the Witch.  "
      ]
     },
     "execution_count": 2,
     "metadata": {},
     "output_type": "execute_result"
    }
   ],
   "source": [
    "filtered_data = pd.read_csv('./5001 Project/Reviews.csv',nrows=100000)\n",
    "\n",
    "# Assign reviews with Score>3 a positive label(1), and reviews with a score<3 a negative label(0).\n",
    "def partition(x):\n",
    "    if x < 3:\n",
    "        return 0\n",
    "    return 1\n",
    "\n",
    "def findMinorClassPoints(df):\n",
    "    posCount = int(df[df['Score']==1].shape[0]);\n",
    "    negCount = int(df[df['Score']==0].shape[0]);\n",
    "    if negCount < posCount:\n",
    "        return negCount\n",
    "    return posCount\n",
    "\n",
    "#changing reviews with score less than 3 to be positive and vice-versa\n",
    "actualScore = filtered_data['Score']\n",
    "positiveNegative = actualScore.map(partition) \n",
    "filtered_data['Score'] = positiveNegative\n",
    "\n",
    "#Performing Downsampling\n",
    "# samplingCount = findMinorClassPoints(filtered_data)\n",
    "# postive_df = filtered_data[filtered_data['Score'] == 1].sample(n=5000)\n",
    "# negative_df = filtered_data[filtered_data['Score'] == 0].sample(n=5000)\n",
    "\n",
    "# filtered_data = pd.concat([postive_df, negative_df])\n",
    "\n",
    "print(\"Number of data points in our data\", filtered_data.shape)\n",
    "filtered_data.head(3)"
   ]
  },
  {
   "cell_type": "markdown",
   "metadata": {},
   "source": [
    "## 3. Data Preprocessing"
   ]
  },
  {
   "cell_type": "code",
   "execution_count": 3,
   "metadata": {},
   "outputs": [
    {
     "name": "stderr",
     "output_type": "stream",
     "text": [
      "100%|██████████████████████████████████████████████████████████████████████████| 88461/88461 [00:20<00:00, 4224.95it/s]\n",
      "100%|█████████████████████████████████████████████████████████████████████████| 88461/88461 [00:00<00:00, 89206.87it/s]\n"
     ]
    }
   ],
   "source": [
    "#Sorting data according to ProductId in ascending order\n",
    "sorted_data=filtered_data.sort_values('ProductId', axis=0, ascending=True, inplace=False, kind='quicksort', na_position='last')\n",
    "\n",
    "#Deduplication of entries\n",
    "final=sorted_data.drop_duplicates(subset={\"UserId\",\"ProfileName\",\"Time\",\"Text\"}, keep='first', inplace=False)\n",
    "final.shape\n",
    "\n",
    "#Removing the anamolies\n",
    "final=final[final.HelpfulnessNumerator<=final.HelpfulnessDenominator]\n",
    "\n",
    "#Preprocessing\n",
    "def decontracted(phrase):\n",
    "    # specific\n",
    "    phrase = re.sub(r\"won't\", \"will not\", phrase)\n",
    "    phrase = re.sub(r\"can\\'t\", \"can not\", phrase)\n",
    "\n",
    "    # general\n",
    "    phrase = re.sub(r\"n\\'t\", \" not\", phrase)\n",
    "    phrase = re.sub(r\"\\'re\", \" are\", phrase)\n",
    "    phrase = re.sub(r\"\\'s\", \" is\", phrase)\n",
    "    phrase = re.sub(r\"\\'d\", \" would\", phrase)\n",
    "    phrase = re.sub(r\"\\'ll\", \" will\", phrase)\n",
    "    phrase = re.sub(r\"\\'t\", \" not\", phrase)\n",
    "    phrase = re.sub(r\"\\'ve\", \" have\", phrase)\n",
    "    phrase = re.sub(r\"\\'m\", \" am\", phrase)\n",
    "    return phrase\n",
    "\n",
    "\n",
    "preprocessed_reviews = []\n",
    "# tqdm is for printing the status bar\n",
    "for sentance in tqdm(final['Text'].values):\n",
    "    sentance = re.sub(r\"http\\S+\", \"\", sentance)\n",
    "    sentance = BeautifulSoup(sentance, 'lxml').get_text()\n",
    "    sentance = decontracted(sentance)\n",
    "    sentance = re.sub(\"\\S*\\d\\S*\", \"\", sentance).strip()\n",
    "    sentance = re.sub('[^A-Za-z]+', ' ', sentance)\n",
    "    # nltk stopwords list\n",
    "    # https://gist.github.com/sebleier/554280\n",
    "    # sentance = ' '.join(e.lower() for e in sentance.split() if e.lower() not in stopwords)\n",
    "    preprocessed_reviews.append(sentance.strip())\n",
    "    \n",
    "## Similartly you can do preprocessing for review summary also.\n",
    "def concatenateSummaryWithText(str1, str2):\n",
    "    return str1 + ' ' + str2\n",
    "\n",
    "preprocessed_summary = []\n",
    "# tqdm is for printing the status bar\n",
    "for sentence in tqdm(final['Summary'].values):\n",
    "    sentence = str(sentence)\n",
    "    sentence = re.sub(r\"http\\S+\", \"\", sentence)\n",
    "    #sentence = BeautifulSoup(sentence, 'lxml').get_text()\n",
    "    sentence = decontracted(sentence)\n",
    "    sentence = re.sub(\"\\S*\\d\\S*\", \"\", sentence).strip()\n",
    "    sentence = re.sub('[^A-Za-z]+', ' ', sentence)\n",
    "    # Reference from https://gist.github.com/sebleier/554280\n",
    "    # sentence = ' '.join(e.lower() for e in sentence.split() if e.lower() not in stopwords)\n",
    "    preprocessed_summary.append(sentence.strip())\n",
    "    \n",
    "preprocessed_reviews = list(map(concatenateSummaryWithText, preprocessed_reviews, preprocessed_summary))\n",
    "final['CleanedText'] = preprocessed_reviews\n",
    "final['CleanedText'] = final['CleanedText'].astype('str')"
   ]
  },
  {
   "cell_type": "markdown",
   "metadata": {},
   "source": [
    "Segregating the input and output data from the dataset.\n",
    "\n",
    "We will be using the Cleaned Text i.e preprocessed data from the dataset and score for that text"
   ]
  },
  {
   "cell_type": "code",
   "execution_count": 4,
   "metadata": {},
   "outputs": [],
   "source": [
    "X = final['CleanedText']\n",
    "y = final['Score']"
   ]
  },
  {
   "cell_type": "code",
   "execution_count": 5,
   "metadata": {},
   "outputs": [],
   "source": [
    "del final\n",
    "del preprocessed_reviews\n",
    "del preprocessed_summary\n",
    "del sorted_data\n",
    "del filtered_data"
   ]
  },
  {
   "cell_type": "markdown",
   "metadata": {},
   "source": [
    "### Splitting the data"
   ]
  },
  {
   "cell_type": "code",
   "execution_count": 6,
   "metadata": {},
   "outputs": [
    {
     "name": "stdout",
     "output_type": "stream",
     "text": [
      "Shape of Input  - Train: (56614,)\n",
      "Shape of Output - Train: (56614,)\n",
      "Shape of Input  - CV   : (14154,)\n",
      "Shape of Output - CV   : (14154,)\n",
      "Shape of Input  - Test : (17693,)\n",
      "Shape of Output - Test : (17693,)\n"
     ]
    }
   ],
   "source": [
    "X_t, X_test, y_t, y_test = train_test_split(X, y, test_size=0.20, stratify=y, shuffle=True)\n",
    "X_train, X_cv, y_train, y_cv = train_test_split(X_t, y_t, test_size=0.20, stratify=y_t, shuffle=True)\n",
    "print(\"Shape of Input  - Train:\", X_train.shape)\n",
    "print(\"Shape of Output - Train:\", y_train.shape)\n",
    "print(\"Shape of Input  - CV   :\", X_cv.shape)\n",
    "print(\"Shape of Output - CV   :\", y_cv.shape)\n",
    "print(\"Shape of Input  - Test :\", X_test.shape)\n",
    "print(\"Shape of Output - Test :\", y_test.shape)"
   ]
  },
  {
   "cell_type": "markdown",
   "metadata": {},
   "source": [
    "### Tokenizing the dataset"
   ]
  },
  {
   "cell_type": "code",
   "execution_count": 7,
   "metadata": {},
   "outputs": [
    {
     "name": "stdout",
     "output_type": "stream",
     "text": [
      "[2, 49, 778, 4, 381, 302, 983, 2, 409, 7, 99, 9, 80, 20, 10, 368, 421, 13, 508, 3, 296, 24, 5, 2, 807, 5, 63, 189, 365, 6, 28, 3, 76, 6, 63, 2, 49, 463, 381, 302, 782, 3, 1654, 14, 6, 26, 11, 53, 2, 49, 548, 5, 689, 360, 202, 80, 5, 6, 26, 153, 63, 189, 11, 53]\n",
      "56614\n"
     ]
    }
   ],
   "source": [
    "tokenize = Tokenizer(num_words=5000)\n",
    "tokenize.fit_on_texts(X_train)\n",
    "\n",
    "X_train_new = tokenize.texts_to_sequences(X_train)\n",
    "X_cv_new = tokenize.texts_to_sequences(X_cv)\n",
    "X_test_new = tokenize.texts_to_sequences(X_test)\n",
    "\n",
    "print(X_train_new[1])\n",
    "print(len(X_train_new))"
   ]
  },
  {
   "cell_type": "markdown",
   "metadata": {},
   "source": [
    "### Padding the dataset with Differnt Max Sequence Length "
   ]
  },
  {
   "cell_type": "markdown",
   "metadata": {},
   "source": [
    "This is to give batch input to the LSTM"
   ]
  },
  {
   "cell_type": "code",
   "execution_count": 8,
   "metadata": {},
   "outputs": [
    {
     "name": "stdout",
     "output_type": "stream",
     "text": [
      "(56614, 600)\n",
      "[   0    0    0    0    0    0    0    0    0    0    0    0    0    0\n",
      "    0    0    0    0    0    0    0    0    0    0    0    0    0    0\n",
      "    0    0    0    0    0    0    0    0    0    0    0    0    0    0\n",
      "    0    0    0    0    0    0    0    0    0    0    0    0    0    0\n",
      "    0    0    0    0    0    0    0    0    0    0    0    0    0    0\n",
      "    0    0    0    0    0    0    0    0    0    0    0    0    0    0\n",
      "    0    0    0    0    0    0    0    0    0    0    0    0    0    0\n",
      "    0    0    0    0    0    0    0    0    0    0    0    0    0    0\n",
      "    0    0    0    0    0    0    0    0    0    0    0    0    0    0\n",
      "    0    0    0    0    0    0    0    0    0    0    0    0    0    0\n",
      "    0    0    0    0    0    0    0    0    0    0    0    0    0    0\n",
      "    0    0    0    0    0    0    0    0    0    0    0    0    0    0\n",
      "    0    0    0    0    0    0    0    0    0    0    0    0    0    0\n",
      "    0    0    0    0    0    0    0    0    0    0    0    0    0    0\n",
      "    0    0    0    0    0    0    0    0    0    0    0    0    0    0\n",
      "    0    0    0    0    0    0    0    0    0    0    0    0    0    0\n",
      "    0    0    0    0    0    0    0    0    0    0    0    0    0    0\n",
      "    0    0    0    0    0    0    0    0    0    0    0    0    0    0\n",
      "    0    0    0    0    0    0    0    0    0    0    0    0    0    0\n",
      "    0    0    0    0    0    0    0    0    0    0    0    0    0    0\n",
      "    0    0    0    0    0    0    0    0    0    0    0    0    0    0\n",
      "    0    0    0    0    0    0    0    0    0    0    0    0    0    0\n",
      "    0    0    0    0    0    0    0    0    0    0    0    0    0    0\n",
      "    0    0    0    0    0    0    0    0    0    0    0    0    0    0\n",
      "    0    0    0    0    0    0    0    0    0    0    0    0    0    0\n",
      "    0    0    0    0    0    0    0    0    0    0    0    0    0    0\n",
      "    0    0    0    0    0    0    0    0    0    0    0    0    0    0\n",
      "    0    0    0    0    0    0    0    0    0    0    0    0    0    0\n",
      "    0    0    0    0    0    0    0    0    0    0    0    0    0    0\n",
      "    0    0    0    0    0    0    0    0    0    0    0    0    0    0\n",
      "    0    0    0    0    0    0    0    0    0    0    0    0    0    0\n",
      "    0    0    0    0    0    0    0    0    0    0    0    0    0    0\n",
      "    0    0    0    0    0    0    0    0    0    0    0    0    0    0\n",
      "    0    0    0    0    0    0    0    0    0    0    0    0    0    0\n",
      "    0    0    0    0    0    0    0    0    0    0    0    0    0    0\n",
      "    0    0    0    0    0    0    0    0    0    0    0    0    0    0\n",
      "    0    0    0    0    0    0    0    0    0    0    0    0    0    0\n",
      "    0    0    0    0    0    0    0    0    0    0    0    0    0    0\n",
      "    0    0    0    0    2   49  778    4  381  302  983    2  409    7\n",
      "   99    9   80   20   10  368  421   13  508    3  296   24    5    2\n",
      "  807    5   63  189  365    6   28    3   76    6   63    2   49  463\n",
      "  381  302  782    3 1654   14    6   26   11   53    2   49  548    5\n",
      "  689  360  202   80    5    6   26  153   63  189   11   53]\n"
     ]
    }
   ],
   "source": [
    "# Truncate and/or pad input sequences\n",
    "# Changing different Max Sequence Length as the input to do the experiment \n",
    "# max_review_length = 1000\n",
    "max_review_length = 600\n",
    "# max_review_length = 130\n",
    "X_train_new = sequence.pad_sequences(X_train_new, maxlen=max_review_length)\n",
    "X_cv_new = sequence.pad_sequences(X_cv_new, maxlen=max_review_length)\n",
    "X_test_new = sequence.pad_sequences(X_test_new, maxlen=max_review_length)\n",
    "\n",
    "print(X_train_new.shape)\n",
    "print(X_train_new[1])"
   ]
  },
  {
   "cell_type": "code",
   "execution_count": 9,
   "metadata": {},
   "outputs": [],
   "source": [
    "# This function is used to update the plots for each epoch and error\n",
    "# https://gist.github.com/greydanus/f6eee59eaf1d90fcb3b534a25362cea4\n",
    "# https://stackoverflow.com/a/14434334S\n",
    "def plt_dynamic(x, vy, ty, ax, colors=['b']):\n",
    "    ax.plot(x, vy, 'b', label=\"Validation Loss\")\n",
    "    ax.plot(x, ty, 'r', label=\"Train Loss\")\n",
    "    plt.legend()\n",
    "    plt.grid()\n",
    "    fig.canvas.draw()\n",
    "    \n",
    "n_epochs = 5\n",
    "batchsize = 512\n",
    "\n",
    "final_output = pd.DataFrame(columns=[\"Model\", \"Architecture\",\n",
    "                                     \"TRAIN_LOSS\", \"TEST_LOSS\", \"TRAIN_ACC\", \"TEST_ACC\"]);"
   ]
  },
  {
   "cell_type": "markdown",
   "metadata": {},
   "source": [
    "### Model M1 ( Embedding -> LSTM -> Output(Sigmoid) ) "
   ]
  },
  {
   "cell_type": "code",
   "execution_count": 10,
   "metadata": {},
   "outputs": [
    {
     "name": "stdout",
     "output_type": "stream",
     "text": [
      "***********************************************\n",
      "Printing the Model Summary\n",
      "Model: \"sequential\"\n",
      "_________________________________________________________________\n",
      "Layer (type)                 Output Shape              Param #   \n",
      "=================================================================\n",
      "embedding (Embedding)        (None, 600, 32)           160000    \n",
      "_________________________________________________________________\n",
      "lstm (LSTM)                  (None, 100)               53200     \n",
      "_________________________________________________________________\n",
      "dense (Dense)                (None, 1)                 101       \n",
      "=================================================================\n",
      "Total params: 213,301\n",
      "Trainable params: 213,301\n",
      "Non-trainable params: 0\n",
      "_________________________________________________________________\n",
      "None\n",
      "***********************************************\n"
     ]
    }
   ],
   "source": [
    "# create the model M1\n",
    "embed_vector_length = 32\n",
    "model = Sequential()\n",
    "model.add(Embedding(5000, embed_vector_length, input_length=max_review_length))\n",
    "model.add(LSTM(100))\n",
    "model.add(Dense(1, activation='sigmoid'))\n",
    "model.compile(loss='binary_crossentropy', optimizer='adam', metrics=['accuracy'])\n",
    "print(\"***********************************************\")\n",
    "print(\"Printing the Model Summary\")\n",
    "print(model.summary())\n",
    "print(\"***********************************************\")"
   ]
  },
  {
   "cell_type": "code",
   "execution_count": 11,
   "metadata": {},
   "outputs": [
    {
     "name": "stdout",
     "output_type": "stream",
     "text": [
      "Epoch 1/5\n",
      "111/111 [==============================] - 291s 3s/step - loss: 0.3506 - accuracy: 0.8657 - val_loss: 0.2137 - val_accuracy: 0.9086\n",
      "Epoch 2/5\n",
      "111/111 [==============================] - 430s 4s/step - loss: 0.1809 - accuracy: 0.9256 - val_loss: 0.1916 - val_accuracy: 0.9214\n",
      "Epoch 3/5\n",
      "111/111 [==============================] - 441s 4s/step - loss: 0.1584 - accuracy: 0.9361 - val_loss: 0.1963 - val_accuracy: 0.9185\n",
      "Epoch 4/5\n",
      "111/111 [==============================] - 448s 4s/step - loss: 0.1481 - accuracy: 0.9401 - val_loss: 0.2031 - val_accuracy: 0.9141\n",
      "Epoch 5/5\n",
      "111/111 [==============================] - 450s 4s/step - loss: 0.1392 - accuracy: 0.9437 - val_loss: 0.2010 - val_accuracy: 0.9152\n",
      "35/35 [==============================] - 19s 539ms/step - loss: 0.1962 - accuracy: 0.9192\n",
      "Test score: 0.19623444974422455\n",
      "Test accuracy: 0.9192336201667786\n"
     ]
    },
    {
     "ename": "NameError",
     "evalue": "name 'f1_score' is not defined",
     "output_type": "error",
     "traceback": [
      "\u001b[1;31m---------------------------------------------------------------------------\u001b[0m",
      "\u001b[1;31mNameError\u001b[0m                                 Traceback (most recent call last)",
      "\u001b[1;32m<ipython-input-11-d4374169c552>\u001b[0m in \u001b[0;36m<module>\u001b[1;34m\u001b[0m\n\u001b[0;32m      8\u001b[0m \u001b[0mprediction\u001b[0m \u001b[1;33m=\u001b[0m \u001b[0mmodel\u001b[0m\u001b[1;33m.\u001b[0m\u001b[0mpredict\u001b[0m\u001b[1;33m(\u001b[0m\u001b[0mX_test_new\u001b[0m\u001b[1;33m)\u001b[0m\u001b[1;33m\u001b[0m\u001b[1;33m\u001b[0m\u001b[0m\n\u001b[0;32m      9\u001b[0m \u001b[0my_pred\u001b[0m \u001b[1;33m=\u001b[0m \u001b[1;33m(\u001b[0m\u001b[0mprediction\u001b[0m \u001b[1;33m>\u001b[0m \u001b[1;36m0.5\u001b[0m\u001b[1;33m)\u001b[0m\u001b[1;33m\u001b[0m\u001b[1;33m\u001b[0m\u001b[0m\n\u001b[1;32m---> 10\u001b[1;33m \u001b[0mprint\u001b[0m\u001b[1;33m(\u001b[0m\u001b[1;34m'F1-score: '\u001b[0m\u001b[1;33m,\u001b[0m \u001b[0mf1_score\u001b[0m\u001b[1;33m(\u001b[0m\u001b[0my_pred\u001b[0m\u001b[1;33m,\u001b[0m \u001b[0my_test\u001b[0m\u001b[1;33m)\u001b[0m\u001b[1;33m)\u001b[0m\u001b[1;33m\u001b[0m\u001b[1;33m\u001b[0m\u001b[0m\n\u001b[0m\u001b[0;32m     11\u001b[0m \u001b[0mprint\u001b[0m\u001b[1;33m(\u001b[0m\u001b[1;34m\"Testing Accuracy of the model : \"\u001b[0m\u001b[1;33m,\u001b[0m \u001b[0maccuracy_score\u001b[0m\u001b[1;33m(\u001b[0m\u001b[0my_pred\u001b[0m\u001b[1;33m,\u001b[0m \u001b[0my_test\u001b[0m\u001b[1;33m)\u001b[0m\u001b[1;33m)\u001b[0m\u001b[1;33m\u001b[0m\u001b[1;33m\u001b[0m\u001b[0m\n\u001b[0;32m     12\u001b[0m \u001b[1;33m\u001b[0m\u001b[0m\n",
      "\u001b[1;31mNameError\u001b[0m: name 'f1_score' is not defined"
     ]
    }
   ],
   "source": [
    "m_hist = model.fit(X_train_new, y_train, epochs=n_epochs, \n",
    "                   batch_size=batchsize, verbose=1, validation_data=(X_cv_new, y_cv))\n",
    "\n",
    "score = model.evaluate(X_test_new, y_test, batch_size=batchsize)\n",
    "print('Test score:', score[0]) \n",
    "print('Test accuracy:', score[1])\n",
    "\n",
    "prediction = model.predict(X_test_new)\n",
    "y_pred = (prediction > 0.5)\n",
    "print('F1-score: ', f1_score(y_pred, y_test))\n",
    "print(\"Testing Accuracy of the model : \", accuracy_score(y_pred, y_test))\n",
    "\n",
    "final_output = final_output.append({\"Model\": 1,\n",
    "                                    \"Architecture\": 'Embedding-LSTM-Sigmoid', \n",
    "                                    \"TRAIN_LOSS\": '{:.5f}'.format(m_hist.history[\"loss\"][n_epochs-1]),\n",
    "                                    \"TEST_LOSS\": '{:.5f}'.format(score[0]),\n",
    "                                    \"TRAIN_ACC\": '{:.5f}'.format(m_hist.history[\"acc\"][n_epochs-1]),\n",
    "                                    \"TEST_ACC\": '{:.5f}'.format(score[1])}, ignore_index=True)\n",
    "\n",
    "fig,ax = plt.subplots(1,1)\n",
    "ax.set_xlabel('epoch')\n",
    "ax.set_ylabel('Categorical Crossentropy Loss')\n",
    "\n",
    "# list of epoch numbers\n",
    "x = list(range(1,n_epochs+1))\n",
    "\n",
    "vy = m_hist.history['val_loss']\n",
    "ty = m_hist.history['loss']\n",
    "plt_dynamic(x, vy, ty, ax)"
   ]
  },
  {
   "cell_type": "markdown",
   "metadata": {},
   "source": [
    "### Model M2 ( Embedding -> LSTM -> Dropout -> Dense(128-Relu) -> Dropout -> Dense (64-Relu) -> Dropout -> Output(Sigmoid) ) "
   ]
  },
  {
   "cell_type": "code",
   "execution_count": null,
   "metadata": {},
   "outputs": [],
   "source": [
    "# create the mode lM2\n",
    "embed_vector_length = 32\n",
    "model = Sequential()\n",
    "model.add(Embedding(5000, embed_vector_length, input_length=max_review_length))\n",
    "model.add(LSTM(100))\n",
    "model.add(Dropout(rate=0.5))\n",
    "model.add(Dense(128, activation='relu', kernel_initializer='he_normal'))\n",
    "model.add(Dropout(rate=0.5))\n",
    "model.add(Dense(64, activation='relu', kernel_initializer='he_normal'))\n",
    "model.add(Dropout(rate=0.5))\n",
    "model.add(Dense(1, activation='sigmoid'))\n",
    "model.compile(loss='binary_crossentropy', optimizer='adam', metrics=['accuracy'])\n",
    "print(\"***********************************************\")\n",
    "print(\"Printing the Model Summary\")\n",
    "print(model.summary())\n",
    "print(\"***********************************************\")"
   ]
  },
  {
   "cell_type": "code",
   "execution_count": null,
   "metadata": {},
   "outputs": [],
   "source": [
    "m_hist = model.fit(X_train_new, y_train, epochs=n_epochs, \n",
    "                   batch_size=batchsize, verbose=1, validation_data=(X_cv_new, y_cv))\n",
    "\n",
    "score = model.evaluate(X_test_new, y_test, batch_size=batchsize)\n",
    "print('Test score:', score[0]) \n",
    "print('Test accuracy:', score[1])\n",
    "\n",
    "prediction = model.predict(X_test_new)\n",
    "y_pred = (prediction > 0.5)\n",
    "print('F1-score: ', f1_score(y_pred, y_test))\n",
    "print(\"Testing Accuracy of the model : \", accuracy_score(y_pred, y_test))\n",
    "\n",
    "final_output = final_output.append({\"Model\": 2,\n",
    "                                    \"Architecture\": 'Embedding-LSTM-Dropout-Dense(128-Relu)-Dropout-Dense(64-Relu)-Dropout-Sigmoid', \n",
    "                                    \"TRAIN_LOSS\": '{:.5f}'.format(m_hist.history[\"loss\"][n_epochs-1]),\n",
    "                                    \"TEST_LOSS\": '{:.5f}'.format(score[0]),\n",
    "                                    \"TRAIN_ACC\": '{:.5f}'.format(m_hist.history[\"acc\"][n_epochs-1]),\n",
    "                                    \"TEST_ACC\": '{:.5f}'.format(score[1])}, ignore_index=True)\n",
    "\n",
    "fig,ax = plt.subplots(1,1)\n",
    "ax.set_xlabel('epoch')\n",
    "ax.set_ylabel('Categorical Crossentropy Loss')\n",
    "\n",
    "# list of epoch numbers\n",
    "x = list(range(1,n_epochs+1))\n",
    "\n",
    "vy = m_hist.history['val_loss']\n",
    "ty = m_hist.history['loss']\n",
    "plt_dynamic(x, vy, ty, ax)"
   ]
  },
  {
   "cell_type": "markdown",
   "metadata": {},
   "source": [
    "### Model M3 ( Embedding -> LSTM -> LSTM -> Output(Sigmoid) ) "
   ]
  },
  {
   "cell_type": "code",
   "execution_count": null,
   "metadata": {},
   "outputs": [],
   "source": [
    "# create the model M3\n",
    "embed_vector_length = 32\n",
    "model = Sequential()\n",
    "model.add(Embedding(5000, embed_vector_length, input_length=max_review_length))\n",
    "model.add(LSTM(100, return_sequences=True))\n",
    "model.add(LSTM(100))\n",
    "model.add(Dense(1, activation='sigmoid'))\n",
    "model.compile(loss='binary_crossentropy', optimizer='adam', metrics=['accuracy'])\n",
    "print(\"***********************************************\")\n",
    "print(\"Printing the Model Summary\")\n",
    "print(model.summary())\n",
    "print(\"***********************************************\")"
   ]
  },
  {
   "cell_type": "code",
   "execution_count": null,
   "metadata": {},
   "outputs": [],
   "source": [
    "m_hist = model.fit(X_train_new, y_train, epochs=n_epochs, \n",
    "                   batch_size=batchsize, verbose=1, validation_data=(X_cv_new, y_cv))\n",
    "\n",
    "score = model.evaluate(X_test_new, y_test, batch_size=batchsize)\n",
    "print('Test score:', score[0]) \n",
    "print('Test accuracy:', score[1])\n",
    "\n",
    "prediction = model.predict(X_test_new)\n",
    "y_pred = (prediction > 0.5)\n",
    "print('F1-score: ', f1_score(y_pred, y_test))\n",
    "print(\"Testing Accuracy of the model : \", accuracy_score(y_pred, y_test))\n",
    "\n",
    "final_output = final_output.append({\"Model\": 3,\n",
    "                                    \"Architecture\": 'Embedding-LSTM-LSTM-Sigmoid', \n",
    "                                    \"TRAIN_LOSS\": '{:.5f}'.format(m_hist.history[\"loss\"][n_epochs-1]),\n",
    "                                    \"TEST_LOSS\": '{:.5f}'.format(score[0]),\n",
    "                                    \"TRAIN_ACC\": '{:.5f}'.format(m_hist.history[\"acc\"][n_epochs-1]),\n",
    "                                    \"TEST_ACC\": '{:.5f}'.format(score[1])}, ignore_index=True)\n",
    "\n",
    "fig,ax = plt.subplots(1,1)\n",
    "ax.set_xlabel('epoch')\n",
    "ax.set_ylabel('Categorical Crossentropy Loss')\n",
    "\n",
    "# list of epoch numbers\n",
    "x = list(range(1,n_epochs+1))\n",
    "\n",
    "vy = m_hist.history['val_loss']\n",
    "ty = m_hist.history['loss']\n",
    "plt_dynamic(x, vy, ty, ax)"
   ]
  },
  {
   "cell_type": "markdown",
   "metadata": {},
   "source": [
    "### Model M4 ( Embedding -> LSTM -> LSTM -> Output(Sigmoid) )"
   ]
  },
  {
   "cell_type": "code",
   "execution_count": null,
   "metadata": {},
   "outputs": [],
   "source": [
    "# create the model M4\n",
    "embed_vector_length = 32\n",
    "model = Sequential()\n",
    "model.add(Embedding(5000, embed_vector_length, input_length=max_review_length))\n",
    "model.add(LSTM(100, return_sequences=True))\n",
    "model.add(LSTM(100))\n",
    "model.add(Dense(1, activation='sigmoid'))\n",
    "model.compile(loss='binary_crossentropy', optimizer='adam', metrics=['accuracy'])\n",
    "print(\"***********************************************\")\n",
    "print(\"Printing the Model Summary\")\n",
    "print(model.summary())\n",
    "print(\"***********************************************\")"
   ]
  },
  {
   "cell_type": "code",
   "execution_count": null,
   "metadata": {},
   "outputs": [],
   "source": [
    "m_hist = model.fit(X_train_new, y_train, epochs=n_epochs, \n",
    "                   batch_size=batchsize, verbose=1, validation_data=(X_cv_new, y_cv))\n",
    "\n",
    "score = model.evaluate(X_test_new, y_test, batch_size=batchsize)\n",
    "print('Test score:', score[0]) \n",
    "print('Test accuracy:', score[1])\n",
    "\n",
    "prediction = model.predict(X_test_new)\n",
    "y_pred = (prediction > 0.5)\n",
    "print('F1-score: ', f1_score(y_pred, y_test))\n",
    "print(\"Testing Accuracy of the model : \", accuracy_score(y_pred, y_test))\n",
    "\n",
    "final_output = final_output.append({\"Model\": 4,\n",
    "                                    \"Architecture\": 'Embedding-LSTM-LSTM-Sigmoid(input_length=130)', \n",
    "                                    \"TRAIN_LOSS\": '{:.5f}'.format(m_hist.history[\"loss\"][n_epochs-1]),\n",
    "                                    \"TEST_LOSS\": '{:.5f}'.format(score[0]),\n",
    "                                    \"TRAIN_ACC\": '{:.5f}'.format(m_hist.history[\"acc\"][n_epochs-1]),\n",
    "                                    \"TEST_ACC\": '{:.5f}'.format(score[1])}, ignore_index=True)\n",
    "\n",
    "fig,ax = plt.subplots(1,1)\n",
    "ax.set_xlabel('epoch')\n",
    "ax.set_ylabel('Categorical Crossentropy Loss')\n",
    "\n",
    "# list of epoch numbers\n",
    "x = list(range(1,n_epochs+1))\n",
    "\n",
    "vy = m_hist.history['val_loss']\n",
    "ty = m_hist.history['loss']\n",
    "plt_dynamic(x, vy, ty, ax)"
   ]
  },
  {
   "cell_type": "markdown",
   "metadata": {},
   "source": [
    "### Model M5 ( Embedding -> LSTM -> Output(Sigmoid)) (Max Sequence Length=130)"
   ]
  },
  {
   "cell_type": "code",
   "execution_count": 82,
   "metadata": {},
   "outputs": [
    {
     "name": "stdout",
     "output_type": "stream",
     "text": [
      "***********************************************\n",
      "Printing the Model Summary\n",
      "Model: \"sequential_3\"\n",
      "_________________________________________________________________\n",
      "Layer (type)                 Output Shape              Param #   \n",
      "=================================================================\n",
      "embedding_3 (Embedding)      (None, 130, 32)           160000    \n",
      "_________________________________________________________________\n",
      "lstm_6 (LSTM)                (None, 100)               53200     \n",
      "_________________________________________________________________\n",
      "dense_3 (Dense)              (None, 1)                 101       \n",
      "=================================================================\n",
      "Total params: 213,301\n",
      "Trainable params: 213,301\n",
      "Non-trainable params: 0\n",
      "_________________________________________________________________\n",
      "None\n",
      "***********************************************\n"
     ]
    }
   ],
   "source": [
    "# create the model M5\n",
    "embed_vector_length = 32\n",
    "model = Sequential()\n",
    "model.add(Embedding(5000, embed_vector_length, input_length=max_review_length))\n",
    "model.add(LSTM(100))\n",
    "model.add(Dense(1, activation='sigmoid'))\n",
    "model.compile(loss='binary_crossentropy', optimizer='adam', metrics=['accuracy'])\n",
    "print(\"***********************************************\")\n",
    "print(\"Printing the Model Summary\")\n",
    "print(model.summary())\n",
    "print(\"***********************************************\")"
   ]
  },
  {
   "cell_type": "code",
   "execution_count": 83,
   "metadata": {},
   "outputs": [
    {
     "name": "stdout",
     "output_type": "stream",
     "text": [
      "Epoch 1/5\n",
      "111/111 [==============================] - 165s 1s/step - loss: 0.3525 - accuracy: 0.8649 - val_loss: 0.2195 - val_accuracy: 0.9054\n",
      "Epoch 2/5\n",
      "111/111 [==============================] - 157s 1s/step - loss: 0.1869 - accuracy: 0.9221 - val_loss: 0.1833 - val_accuracy: 0.9238\n",
      "Epoch 3/5\n",
      "111/111 [==============================] - 154s 1s/step - loss: 0.1613 - accuracy: 0.9345 - val_loss: 0.1843 - val_accuracy: 0.9252\n",
      "Epoch 4/5\n",
      "111/111 [==============================] - 155s 1s/step - loss: 0.1522 - accuracy: 0.9389 - val_loss: 0.1857 - val_accuracy: 0.9249\n",
      "Epoch 5/5\n",
      "111/111 [==============================] - 156s 1s/step - loss: 0.1466 - accuracy: 0.9406 - val_loss: 0.1904 - val_accuracy: 0.9204\n",
      "35/35 [==============================] - 17s 486ms/step - loss: 0.2056 - accuracy: 0.9153\n",
      "Test score: 0.20555901527404785\n",
      "Test accuracy: 0.9153337478637695\n",
      "F1-score:  0.949963257398624\n",
      "Testing Accuracy of the model :  0.9153337478098683\n"
     ]
    },
    {
     "ename": "KeyError",
     "evalue": "'acc'",
     "output_type": "error",
     "traceback": [
      "\u001b[1;31m---------------------------------------------------------------------------\u001b[0m",
      "\u001b[1;31mKeyError\u001b[0m                                  Traceback (most recent call last)",
      "\u001b[1;32m<ipython-input-83-599bf7219f18>\u001b[0m in \u001b[0;36m<module>\u001b[1;34m\u001b[0m\n\u001b[0;32m     15\u001b[0m                                     \u001b[1;34m\"TRAIN_LOSS\"\u001b[0m\u001b[1;33m:\u001b[0m \u001b[1;34m'{:.5f}'\u001b[0m\u001b[1;33m.\u001b[0m\u001b[0mformat\u001b[0m\u001b[1;33m(\u001b[0m\u001b[0mm_hist\u001b[0m\u001b[1;33m.\u001b[0m\u001b[0mhistory\u001b[0m\u001b[1;33m[\u001b[0m\u001b[1;34m\"loss\"\u001b[0m\u001b[1;33m]\u001b[0m\u001b[1;33m[\u001b[0m\u001b[0mn_epochs\u001b[0m\u001b[1;33m-\u001b[0m\u001b[1;36m1\u001b[0m\u001b[1;33m]\u001b[0m\u001b[1;33m)\u001b[0m\u001b[1;33m,\u001b[0m\u001b[1;33m\u001b[0m\u001b[1;33m\u001b[0m\u001b[0m\n\u001b[0;32m     16\u001b[0m                                     \u001b[1;34m\"TEST_LOSS\"\u001b[0m\u001b[1;33m:\u001b[0m \u001b[1;34m'{:.5f}'\u001b[0m\u001b[1;33m.\u001b[0m\u001b[0mformat\u001b[0m\u001b[1;33m(\u001b[0m\u001b[0mscore\u001b[0m\u001b[1;33m[\u001b[0m\u001b[1;36m0\u001b[0m\u001b[1;33m]\u001b[0m\u001b[1;33m)\u001b[0m\u001b[1;33m,\u001b[0m\u001b[1;33m\u001b[0m\u001b[1;33m\u001b[0m\u001b[0m\n\u001b[1;32m---> 17\u001b[1;33m                                     \u001b[1;34m\"TRAIN_ACC\"\u001b[0m\u001b[1;33m:\u001b[0m \u001b[1;34m'{:.5f}'\u001b[0m\u001b[1;33m.\u001b[0m\u001b[0mformat\u001b[0m\u001b[1;33m(\u001b[0m\u001b[0mm_hist\u001b[0m\u001b[1;33m.\u001b[0m\u001b[0mhistory\u001b[0m\u001b[1;33m[\u001b[0m\u001b[1;34m\"acc\"\u001b[0m\u001b[1;33m]\u001b[0m\u001b[1;33m[\u001b[0m\u001b[0mn_epochs\u001b[0m\u001b[1;33m-\u001b[0m\u001b[1;36m1\u001b[0m\u001b[1;33m]\u001b[0m\u001b[1;33m)\u001b[0m\u001b[1;33m,\u001b[0m\u001b[1;33m\u001b[0m\u001b[1;33m\u001b[0m\u001b[0m\n\u001b[0m\u001b[0;32m     18\u001b[0m                                     \"TEST_ACC\": '{:.5f}'.format(score[1])}, ignore_index=True)\n\u001b[0;32m     19\u001b[0m \u001b[1;33m\u001b[0m\u001b[0m\n",
      "\u001b[1;31mKeyError\u001b[0m: 'acc'"
     ]
    }
   ],
   "source": [
    "m_hist = model.fit(X_train_new, y_train, epochs=n_epochs, \n",
    "                   batch_size=batchsize, verbose=1, validation_data=(X_cv_new, y_cv))\n",
    "\n",
    "score = model.evaluate(X_test_new, y_test, batch_size=batchsize)\n",
    "print('Test score:', score[0]) \n",
    "print('Test accuracy:', score[1])\n",
    "\n",
    "prediction = model.predict(X_test_new)\n",
    "y_pred = (prediction > 0.5)\n",
    "print('F1-score: ', f1_score(y_pred, y_test))\n",
    "print(\"Testing Accuracy of the model : \", accuracy_score(y_pred, y_test))\n",
    "\n",
    "final_output = final_output.append({\"Model\": 5,\n",
    "                                    \"Architecture\": 'Embedding-LSTM-Sigmoid(input_length=130)', \n",
    "                                    \"TRAIN_LOSS\": '{:.5f}'.format(m_hist.history[\"loss\"][n_epochs-1]),\n",
    "                                    \"TEST_LOSS\": '{:.5f}'.format(score[0]),\n",
    "                                    \"TRAIN_ACC\": '{:.5f}'.format(m_hist.history[\"accuracy\"][n_epochs-1]),\n",
    "                                    \"TEST_ACC\": '{:.5f}'.format(score[1])}, ignore_index=True)\n",
    "\n",
    "fig,ax = plt.subplots(1,1)\n",
    "ax.set_xlabel('epoch')\n",
    "ax.set_ylabel('Categorical Crossentropy Loss')\n",
    "\n",
    "# list of epoch numbers\n",
    "x = list(range(1,n_epochs+1))\n",
    "\n",
    "vy = m_hist.history['val_loss']\n",
    "ty = m_hist.history['loss']\n",
    "plt_dynamic(x, vy, ty, ax)"
   ]
  },
  {
   "cell_type": "code",
   "execution_count": 84,
   "metadata": {},
   "outputs": [
    {
     "data": {
      "image/png": "[encoded data removed]",
      "text/plain": [
       "<Figure size 432x288 with 1 Axes>"
      ]
     },
     "metadata": {
      "needs_background": "light"
     },
     "output_type": "display_data"
    }
   ],
   "source": [
    "final_output = final_output.append({\"Model\": 5,\n",
    "                                    \"Architecture\": 'Embedding-LSTM-Sigmoid(input_length=130)', \n",
    "                                    \"TRAIN_LOSS\": '{:.5f}'.format(m_hist.history[\"loss\"][n_epochs-1]),\n",
    "                                    \"TEST_LOSS\": '{:.5f}'.format(score[0]),\n",
    "                                    \"TRAIN_ACC\": '{:.5f}'.format(m_hist.history[\"accuracy\"][n_epochs-1]),\n",
    "                                    \"TEST_ACC\": '{:.5f}'.format(score[1])}, ignore_index=True)\n",
    "\n",
    "fig,ax = plt.subplots(1,1)\n",
    "ax.set_xlabel('epoch')\n",
    "ax.set_ylabel('Categorical Crossentropy Loss')\n",
    "\n",
    "# list of epoch numbers\n",
    "x = list(range(1,n_epochs+1))\n",
    "\n",
    "vy = m_hist.history['val_loss']\n",
    "ty = m_hist.history['loss']\n",
    "plt_dynamic(x, vy, ty, ax)"
   ]
  },
  {
   "cell_type": "markdown",
   "metadata": {},
   "source": [
    "### Model M6 ( Embedding -> LSTM -> Output(Sigmoid) )(Max Sequence Length=600) "
   ]
  },
  {
   "cell_type": "code",
   "execution_count": 20,
   "metadata": {},
   "outputs": [
    {
     "name": "stdout",
     "output_type": "stream",
     "text": [
      "***********************************************\n",
      "Printing the Model Summary\n",
      "Model: \"sequential_1\"\n",
      "_________________________________________________________________\n",
      "Layer (type)                 Output Shape              Param #   \n",
      "=================================================================\n",
      "embedding_1 (Embedding)      (None, 600, 32)           160000    \n",
      "_________________________________________________________________\n",
      "lstm_3 (LSTM)                (None, 100)               53200     \n",
      "_________________________________________________________________\n",
      "dense_1 (Dense)              (None, 1)                 101       \n",
      "=================================================================\n",
      "Total params: 213,301\n",
      "Trainable params: 213,301\n",
      "Non-trainable params: 0\n",
      "_________________________________________________________________\n",
      "None\n",
      "***********************************************\n"
     ]
    }
   ],
   "source": [
    "# create the model M6\n",
    "embed_vector_length = 32\n",
    "model = Sequential()\n",
    "model.add(Embedding(5000, embed_vector_length, input_length=max_review_length))\n",
    "model.add(LSTM(100))\n",
    "model.add(Dense(1, activation='sigmoid'))\n",
    "model.compile(loss='binary_crossentropy', optimizer='adam', metrics=['accuracy'])\n",
    "print(\"***********************************************\")\n",
    "print(\"Printing the Model Summary\")\n",
    "print(model.summary())\n",
    "print(\"***********************************************\")"
   ]
  },
  {
   "cell_type": "code",
   "execution_count": 21,
   "metadata": {},
   "outputs": [
    {
     "name": "stdout",
     "output_type": "stream",
     "text": [
      "Epoch 1/5\n",
      "111/111 [==============================] - 1705s 15s/step - loss: 0.3703 - accuracy: 0.8617 - val_loss: 0.2130 - val_accuracy: 0.9117\n",
      "Epoch 2/5\n",
      "111/111 [==============================] - 1607s 14s/step - loss: 0.2149 - accuracy: 0.9109 - val_loss: 0.1960 - val_accuracy: 0.9173\n",
      "Epoch 3/5\n",
      "111/111 [==============================] - 1615s 15s/step - loss: 0.1702 - accuracy: 0.9300 - val_loss: 0.1835 - val_accuracy: 0.9249\n",
      "Epoch 4/5\n",
      "111/111 [==============================] - 1631s 15s/step - loss: 0.1555 - accuracy: 0.9379 - val_loss: 0.1910 - val_accuracy: 0.9250\n",
      "Epoch 5/5\n",
      "111/111 [==============================] - 1656s 15s/step - loss: 0.1475 - accuracy: 0.9417 - val_loss: 0.1860 - val_accuracy: 0.9249\n",
      "35/35 [==============================] - 90s 3s/step - loss: 0.1975 - accuracy: 0.9204\n",
      "Test score: 0.1975172609090805\n",
      "Test accuracy: 0.9204205274581909\n",
      "F1-score:  0.953473002445311\n",
      "Testing Accuracy of the model :  0.9204205052845759\n"
     ]
    },
    {
     "data": {
      "image/png": "[encoded data removed]",
      "text/plain": [
       "<Figure size 432x288 with 1 Axes>"
      ]
     },
     "metadata": {
      "needs_background": "light"
     },
     "output_type": "display_data"
    }
   ],
   "source": [
    "\n",
    "m_hist = model.fit(X_train_new, y_train, epochs=n_epochs, \n",
    "                   batch_size=batchsize, verbose=1, validation_data=(X_cv_new, y_cv))\n",
    "score = model.evaluate(X_test_new, y_test, batch_size=batchsize)\n",
    "print('Test score:', score[0]) \n",
    "print('Test accuracy:', score[1])\n",
    "\n",
    "prediction = model.predict(X_test_new)\n",
    "y_pred = (prediction > 0.5)\n",
    "print('F1-score: ', f1_score(y_pred, y_test))\n",
    "print(\"Testing Accuracy of the model : \", accuracy_score(y_pred, y_test))\n",
    "\n",
    "final_output = final_output.append({\"Model\": 6,\n",
    "                                    \"Architecture\": 'Embedding-LSTM-Sigmoid(input_length=600)', \n",
    "                                    \"TRAIN_LOSS\": '{:.5f}'.format(m_hist.history[\"loss\"][n_epochs-1]),\n",
    "                                    \"TEST_LOSS\": '{:.5f}'.format(score[0]),\n",
    "                                    \"TRAIN_ACC\": '{:.5f}'.format(m_hist.history[\"accuracy\"][n_epochs-1]),\n",
    "                                    \"TEST_ACC\": '{:.5f}'.format(score[1])}, ignore_index=True)\n",
    "\n",
    "fig,ax = plt.subplots(1,1)\n",
    "ax.set_xlabel('epoch')\n",
    "ax.set_ylabel('Categorical Crossentropy Loss')\n",
    "\n",
    "# list of epoch numbers\n",
    "x = list(range(1,n_epochs+1))\n",
    "\n",
    "vy = m_hist.history['val_loss']\n",
    "ty = m_hist.history['loss']\n",
    "plt_dynamic(x, vy, ty, ax)"
   ]
  },
  {
   "cell_type": "markdown",
   "metadata": {},
   "source": [
    "### Model M7 ( Embedding -> LSTM -> LSTM ->Output(Sigmoid) )(Max Sequence Length=600) "
   ]
  },
  {
   "cell_type": "code",
   "execution_count": 78,
   "metadata": {
    "scrolled": true
   },
   "outputs": [
    {
     "name": "stdout",
     "output_type": "stream",
     "text": [
      "***********************************************\n",
      "Printing the Model Summary\n",
      "Model: \"sequential_2\"\n",
      "_________________________________________________________________\n",
      "Layer (type)                 Output Shape              Param #   \n",
      "=================================================================\n",
      "embedding_2 (Embedding)      (None, 600, 32)           160000    \n",
      "_________________________________________________________________\n",
      "lstm_4 (LSTM)                (None, 600, 100)          53200     \n",
      "_________________________________________________________________\n",
      "lstm_5 (LSTM)                (None, 100)               80400     \n",
      "_________________________________________________________________\n",
      "dense_2 (Dense)              (None, 1)                 101       \n",
      "=================================================================\n",
      "Total params: 293,701\n",
      "Trainable params: 293,701\n",
      "Non-trainable params: 0\n",
      "_________________________________________________________________\n",
      "None\n",
      "***********************************************\n"
     ]
    }
   ],
   "source": [
    "# create the model M7\n",
    "embed_vector_length = 32\n",
    "model = Sequential()\n",
    "model.add(Embedding(5000, embed_vector_length, input_length=max_review_length))\n",
    "model.add(LSTM(100, return_sequences=True))\n",
    "model.add(LSTM(100))\n",
    "model.add(Dense(1, activation='sigmoid'))\n",
    "model.compile(loss='binary_crossentropy', optimizer='adam', metrics=['accuracy'])\n",
    "print(\"***********************************************\")\n",
    "print(\"Printing the Model Summary\")\n",
    "print(model.summary())\n",
    "print(\"***********************************************\")"
   ]
  },
  {
   "cell_type": "code",
   "execution_count": 79,
   "metadata": {
    "scrolled": true
   },
   "outputs": [
    {
     "name": "stdout",
     "output_type": "stream",
     "text": [
      "Epoch 1/5\n",
      "111/111 [==============================] - 4043s 36s/step - loss: 0.3425 - accuracy: 0.8710 - val_loss: 0.2082 - val_accuracy: 0.9129\n",
      "Epoch 2/5\n",
      "111/111 [==============================] - 3950s 36s/step - loss: 0.1854 - accuracy: 0.9238 - val_loss: 0.1868 - val_accuracy: 0.9227\n",
      "Epoch 3/5\n",
      "111/111 [==============================] - 3653s 33s/step - loss: 0.1599 - accuracy: 0.9351 - val_loss: 0.1791 - val_accuracy: 0.9253\n",
      "Epoch 4/5\n",
      "111/111 [==============================] - 3666s 33s/step - loss: 0.1486 - accuracy: 0.9399 - val_loss: 0.1821 - val_accuracy: 0.9256\n",
      "Epoch 5/5\n",
      "111/111 [==============================] - 3698s 33s/step - loss: 0.1409 - accuracy: 0.9436 - val_loss: 0.1832 - val_accuracy: 0.9255\n",
      "35/35 [==============================] - 191s 5s/step - loss: 0.1974 - accuracy: 0.9213\n",
      "Test score: 0.1974116861820221\n",
      "Test accuracy: 0.9212682843208313\n",
      "F1-score:  0.9537869488770196\n",
      "Testing Accuracy of the model :  0.921268298197027\n"
     ]
    },
    {
     "data": {
      "image/png": "[encoded data removed]",
      "text/plain": [
       "<Figure size 432x288 with 1 Axes>"
      ]
     },
     "metadata": {
      "needs_background": "light"
     },
     "output_type": "display_data"
    }
   ],
   "source": [
    "m_hist = model.fit(X_train_new, y_train, epochs=n_epochs, \n",
    "                   batch_size=batchsize, verbose=1, validation_data=(X_cv_new, y_cv))\n",
    "\n",
    "score = model.evaluate(X_test_new, y_test, batch_size=batchsize)\n",
    "print('Test score:', score[0]) \n",
    "print('Test accuracy:', score[1])\n",
    "\n",
    "prediction = model.predict(X_test_new)\n",
    "y_pred = (prediction > 0.5)\n",
    "print('F1-score: ', f1_score(y_pred, y_test))\n",
    "print(\"Testing Accuracy of the model : \", accuracy_score(y_pred, y_test))\n",
    "\n",
    "final_output = final_output.append({\"Model\": 7,\n",
    "                                    \"Architecture\": 'Embedding-LSTM-LSTM-Sigmoid(input_length=600)', \n",
    "                                    \"TRAIN_LOSS\": '{:.5f}'.format(m_hist.history[\"loss\"][n_epochs-1]),\n",
    "                                    \"TEST_LOSS\": '{:.5f}'.format(score[0]),\n",
    "                                    \"TRAIN_ACC\": '{:.5f}'.format(m_hist.history[\"accuracy\"][n_epochs-1]),\n",
    "                                    \"TEST_ACC\": '{:.5f}'.format(score[1])}, ignore_index=True)\n",
    "\n",
    "fig,ax = plt.subplots(1,1)\n",
    "ax.set_xlabel('epoch')\n",
    "ax.set_ylabel('Categorical Crossentropy Loss')\n",
    "\n",
    "# list of epoch numbers\n",
    "x = list(range(1,n_epochs+1))\n",
    "\n",
    "vy = m_hist.history['val_loss']\n",
    "ty = m_hist.history['loss']\n",
    "plt_dynamic(x, vy, ty, ax)"
   ]
  },
  {
   "cell_type": "markdown",
   "metadata": {},
   "source": [
    "### Model M8 ( Embedding -> LSTM -> LSTM -> LSTM-> Output(Sigmoid) )"
   ]
  },
  {
   "cell_type": "code",
   "execution_count": 15,
   "metadata": {
    "scrolled": true
   },
   "outputs": [
    {
     "name": "stdout",
     "output_type": "stream",
     "text": [
      "***********************************************\n",
      "Printing the Model Summary\n",
      "Model: \"sequential\"\n",
      "_________________________________________________________________\n",
      "Layer (type)                 Output Shape              Param #   \n",
      "=================================================================\n",
      "embedding (Embedding)        (None, 1000, 32)          160000    \n",
      "_________________________________________________________________\n",
      "lstm (LSTM)                  (None, 1000, 100)         53200     \n",
      "_________________________________________________________________\n",
      "lstm_1 (LSTM)                (None, 1000, 100)         80400     \n",
      "_________________________________________________________________\n",
      "lstm_2 (LSTM)                (None, 100)               80400     \n",
      "_________________________________________________________________\n",
      "dense (Dense)                (None, 1)                 101       \n",
      "=================================================================\n",
      "Total params: 374,101\n",
      "Trainable params: 374,101\n",
      "Non-trainable params: 0\n",
      "_________________________________________________________________\n",
      "None\n",
      "***********************************************\n"
     ]
    }
   ],
   "source": [
    "# create the model M8\n",
    "embed_vector_length = 32\n",
    "model = Sequential()\n",
    "model.add(Embedding(5000, embed_vector_length, input_length=max_review_length))\n",
    "model.add(LSTM(100, return_sequences=True))\n",
    "model.add(LSTM(100, return_sequences=True))\n",
    "model.add(LSTM(100))\n",
    "model.add(Dense(1, activation='sigmoid'))\n",
    "model.compile(loss='binary_crossentropy', optimizer='adam', metrics=['accuracy'])\n",
    "print(\"***********************************************\")\n",
    "print(\"Printing the Model Summary\")\n",
    "print(model.summary())\n",
    "print(\"***********************************************\")"
   ]
  },
  {
   "cell_type": "code",
   "execution_count": 16,
   "metadata": {},
   "outputs": [
    {
     "name": "stdout",
     "output_type": "stream",
     "text": [
      "Epoch 1/5\n",
      "111/111 [==============================] - 5514s 50s/step - loss: 0.3358 - accuracy: 0.8733 - val_loss: 0.2116 - val_accuracy: 0.9098\n",
      "Epoch 2/5\n",
      "111/111 [==============================] - 7528s 68s/step - loss: 0.1848 - accuracy: 0.9250 - val_loss: 0.1847 - val_accuracy: 0.9226\n",
      "Epoch 3/5\n",
      "111/111 [==============================] - 24884s 224s/step - loss: 0.1608 - accuracy: 0.9341 - val_loss: 0.1804 - val_accuracy: 0.9257\n",
      "Epoch 4/5\n",
      "111/111 [==============================] - 16812s 151s/step - loss: 0.1470 - accuracy: 0.9417 - val_loss: 0.1902 - val_accuracy: 0.9234\n",
      "Epoch 5/5\n",
      "111/111 [==============================] - 12510s 113s/step - loss: 0.1351 - accuracy: 0.9463 - val_loss: 0.1914 - val_accuracy: 0.9254\n",
      "35/35 [==============================] - 540s 15s/step - loss: 0.2040 - accuracy: 0.9223\n",
      "Test score: 0.20396316051483154\n",
      "Test accuracy: 0.9223421812057495\n"
     ]
    },
    {
     "ename": "KeyError",
     "evalue": "'acc'",
     "output_type": "error",
     "traceback": [
      "\u001b[1;31m---------------------------------------------------------------------------\u001b[0m",
      "\u001b[1;31mKeyError\u001b[0m                                  Traceback (most recent call last)",
      "\u001b[1;32m<ipython-input-16-6f15d263b96a>\u001b[0m in \u001b[0;36m<module>\u001b[1;34m\u001b[0m\n\u001b[0;32m     10\u001b[0m                                     \u001b[1;34m\"TRAIN_LOSS\"\u001b[0m\u001b[1;33m:\u001b[0m \u001b[1;34m'{:.5f}'\u001b[0m\u001b[1;33m.\u001b[0m\u001b[0mformat\u001b[0m\u001b[1;33m(\u001b[0m\u001b[0mm_hist\u001b[0m\u001b[1;33m.\u001b[0m\u001b[0mhistory\u001b[0m\u001b[1;33m[\u001b[0m\u001b[1;34m\"loss\"\u001b[0m\u001b[1;33m]\u001b[0m\u001b[1;33m[\u001b[0m\u001b[0mn_epochs\u001b[0m\u001b[1;33m-\u001b[0m\u001b[1;36m1\u001b[0m\u001b[1;33m]\u001b[0m\u001b[1;33m)\u001b[0m\u001b[1;33m,\u001b[0m\u001b[1;33m\u001b[0m\u001b[1;33m\u001b[0m\u001b[0m\n\u001b[0;32m     11\u001b[0m                                     \u001b[1;34m\"TEST_LOSS\"\u001b[0m\u001b[1;33m:\u001b[0m \u001b[1;34m'{:.5f}'\u001b[0m\u001b[1;33m.\u001b[0m\u001b[0mformat\u001b[0m\u001b[1;33m(\u001b[0m\u001b[0mscore\u001b[0m\u001b[1;33m[\u001b[0m\u001b[1;36m0\u001b[0m\u001b[1;33m]\u001b[0m\u001b[1;33m)\u001b[0m\u001b[1;33m,\u001b[0m\u001b[1;33m\u001b[0m\u001b[1;33m\u001b[0m\u001b[0m\n\u001b[1;32m---> 12\u001b[1;33m                                     \u001b[1;34m\"TRAIN_ACC\"\u001b[0m\u001b[1;33m:\u001b[0m \u001b[1;34m'{:.5f}'\u001b[0m\u001b[1;33m.\u001b[0m\u001b[0mformat\u001b[0m\u001b[1;33m(\u001b[0m\u001b[0mm_hist\u001b[0m\u001b[1;33m.\u001b[0m\u001b[0mhistory\u001b[0m\u001b[1;33m[\u001b[0m\u001b[1;34m\"acc\"\u001b[0m\u001b[1;33m]\u001b[0m\u001b[1;33m[\u001b[0m\u001b[0mn_epochs\u001b[0m\u001b[1;33m-\u001b[0m\u001b[1;36m1\u001b[0m\u001b[1;33m]\u001b[0m\u001b[1;33m)\u001b[0m\u001b[1;33m,\u001b[0m\u001b[1;33m\u001b[0m\u001b[1;33m\u001b[0m\u001b[0m\n\u001b[0m\u001b[0;32m     13\u001b[0m                                     \"TEST_ACC\": '{:.5f}'.format(score[1])}, ignore_index=True)\n\u001b[0;32m     14\u001b[0m \u001b[1;33m\u001b[0m\u001b[0m\n",
      "\u001b[1;31mKeyError\u001b[0m: 'acc'"
     ]
    }
   ],
   "source": [
    "m_hist = model.fit(X_train_new, y_train, epochs=n_epochs, \n",
    "                   batch_size=batchsize, verbose=1, validation_data=(X_cv_new, y_cv))\n",
    "\n",
    "score = model.evaluate(X_test_new, y_test, batch_size=batchsize)\n",
    "print('Test score:', score[0]) \n",
    "print('Test accuracy:', score[1])\n",
    "\n",
    "prediction = model.predict(X_test_new)\n",
    "y_pred = (prediction > 0.5)\n",
    "print('F1-score: ', f1_score(y_pred, y_test))\n",
    "print(\"Testing Accuracy of the model : \", accuracy_score(y_pred, y_test))\n",
    "\n",
    "final_output = final_output.append({\"Model\": 8,\n",
    "                                    \"Architecture\": 'Embedding -> LSTM -> LSTM -> LSTM-> Output(Sigmoid)', \n",
    "                                    \"TRAIN_LOSS\": '{:.5f}'.format(m_hist.history[\"loss\"][n_epochs-1]),\n",
    "                                    \"TEST_LOSS\": '{:.5f}'.format(score[0]),\n",
    "                                    \"TRAIN_ACC\": '{:.5f}'.format(m_hist.history[\"accuracy\"][n_epochs-1]),\n",
    "                                    \"TEST_ACC\": '{:.5f}'.format(score[1])}, ignore_index=True)\n",
    "\n",
    "fig,ax = plt.subplots(1,1)\n",
    "ax.set_xlabel('epoch')\n",
    "ax.set_ylabel('Categorical Crossentropy Loss')\n",
    "\n",
    "# list of epoch numbers\n",
    "x = list(range(1,n_epochs+1))\n",
    "\n",
    "vy = m_hist.history['val_loss']\n",
    "ty = m_hist.history['loss']\n",
    "plt_dynamic(x, vy, ty, ax)"
   ]
  },
  {
   "cell_type": "code",
   "execution_count": 17,
   "metadata": {
    "scrolled": false
   },
   "outputs": [
    {
     "data": {
      "image/png": "[encoded data removed]",
      "text/plain": [
       "<Figure size 432x288 with 1 Axes>"
      ]
     },
     "metadata": {
      "needs_background": "light"
     },
     "output_type": "display_data"
    }
   ],
   "source": [
    "# final_output = final_output.append({\"Model\": 8,\n",
    "#                                     \"Architecture\": 'Embedding -> LSTM -> LSTM -> LSTM-> Output(Sigmoid)', \n",
    "#                                     \"TRAIN_LOSS\": '{:.5f}'.format(m_hist.history[\"loss\"][n_epochs-1]),\n",
    "#                                     \"TEST_LOSS\": '{:.5f}'.format(score[0]),\n",
    "#                                     \"TRAIN_ACC\": '{:.5f}'.format(m_hist.history[\"accuracy\"][n_epochs-1]),\n",
    "#                                     \"TEST_ACC\": '{:.5f}'.format(score[1])}, ignore_index=True)\n",
    "\n",
    "# fig,ax = plt.subplots(1,1)\n",
    "# ax.set_xlabel('epoch')\n",
    "# ax.set_ylabel('Categorical Crossentropy Loss')\n",
    "\n",
    "# # list of epoch numbers\n",
    "# x = list(range(1,n_epochs+1))\n",
    "\n",
    "# vy = m_hist.history['val_loss']\n",
    "# ty = m_hist.history['loss']\n",
    "# plt_dynamic(x, vy, ty, ax)"
   ]
  },
  {
   "cell_type": "code",
   "execution_count": 18,
   "metadata": {},
   "outputs": [
    {
     "name": "stdout",
     "output_type": "stream",
     "text": [
      "F1-score:  0.9547192196150803\n",
      "Testing Accuracy of the model :  0.9223421692194653\n"
     ]
    }
   ],
   "source": [
    "# from sklearn.metrics import f1_score,accuracy_score\n",
    "# prediction = model.predict(X_test_new)\n",
    "# y_pred = (prediction > 0.5)\n",
    "# print('F1-score: ', f1_score(y_pred, y_test))\n",
    "# print(\"Testing Accuracy of the model : \", accuracy_score(y_pred, y_test))"
   ]
  },
  {
   "cell_type": "markdown",
   "metadata": {},
   "source": [
    "### Model M9 ( Embedding ->BN->Dropout->  LSTM -> Output(Sigmoid) )"
   ]
  },
  {
   "cell_type": "code",
   "execution_count": null,
   "metadata": {},
   "outputs": [],
   "source": [
    "# create the model M9\n",
    "embed_vector_length = 32\n",
    "model = Sequential()\n",
    "model.add(Embedding(5000, embed_vector_length, input_length=max_review_length))\n",
    "model.add(BatchNormalization())\n",
    "model.add(Dropout(rate=0.5))\n",
    "model.add(LSTM(100))\n",
    "model.add(Dense(1, activation='sigmoid'))\n",
    "model.compile(loss='binary_crossentropy', optimizer='adam', metrics=['accuracy'])\n",
    "print(\"***********************************************\")\n",
    "print(\"Printing the Model Summary\")\n",
    "print(model.summary())\n",
    "print(\"***********************************************\")"
   ]
  },
  {
   "cell_type": "code",
   "execution_count": null,
   "metadata": {},
   "outputs": [],
   "source": [
    "m_hist = model.fit(X_train_new, y_train, epochs=n_epochs, \n",
    "                   batch_size=batchsize, verbose=1, validation_data=(X_cv_new, y_cv))\n",
    "\n",
    "score = model.evaluate(X_test_new, y_test, batch_size=batchsize)\n",
    "print('Test score:', score[0]) \n",
    "print('Test accuracy:', score[1])\n",
    "\n",
    "prediction = model.predict(X_test_new)\n",
    "y_pred = (prediction > 0.5)\n",
    "print('F1-score: ', f1_score(y_pred, y_test))\n",
    "print(\"Testing Accuracy of the model : \", accuracy_score(y_pred, y_test))\n",
    "\n",
    "final_output = final_output.append({\"Model\": 9,\n",
    "                                    \"Architecture\": 'Embedding ->BN->Dropout->LSTM -> Output(Sigmoid)', \n",
    "                                    \"TRAIN_LOSS\": '{:.5f}'.format(m_hist.history[\"loss\"][n_epochs-1]),\n",
    "                                    \"TEST_LOSS\": '{:.5f}'.format(score[0]),\n",
    "                                    \"TRAIN_ACC\": '{:.5f}'.format(m_hist.history[\"accuracy\"][n_epochs-1]),\n",
    "                                    \"TEST_ACC\": '{:.5f}'.format(score[1])}, ignore_index=True)\n",
    "\n",
    "fig,ax = plt.subplots(1,1)\n",
    "ax.set_xlabel('epoch')\n",
    "ax.set_ylabel('Categorical Crossentropy Loss')\n",
    "\n",
    "# list of epoch numbers\n",
    "x = list(range(1,n_epochs+1))\n",
    "\n",
    "vy = m_hist.history['val_loss']\n",
    "ty = m_hist.history['loss']\n",
    "plt_dynamic(x, vy, ty, ax)"
   ]
  },
  {
   "cell_type": "markdown",
   "metadata": {},
   "source": [
    "### Model M10 ( Embedding ->BN->Dropout->  LSTM ->Dropout->LSTM ->Dropout-> Output(Sigmoid) )"
   ]
  },
  {
   "cell_type": "code",
   "execution_count": null,
   "metadata": {},
   "outputs": [],
   "source": [
    "# create the model M10\n",
    "embed_vector_length = 32\n",
    "model = Sequential()\n",
    "model.add(Embedding(5000, embed_vector_length, input_length=max_review_length))\n",
    "model.add(BatchNormalization())\n",
    "model.add(Dropout(rate=0.5))\n",
    "model.add(LSTM(100, return_sequences=True))\n",
    "model.add(Dropout(rate=0.5))\n",
    "model.add(LSTM(100))\n",
    "model.add(Dense(1, activation='sigmoid'))\n",
    "model.compile(loss='binary_crossentropy', optimizer='adam', metrics=['accuracy'])\n",
    "print(\"***********************************************\")\n",
    "print(\"Printing the Model Summary\")\n",
    "print(model.summary())\n",
    "print(\"***********************************************\")"
   ]
  },
  {
   "cell_type": "code",
   "execution_count": null,
   "metadata": {},
   "outputs": [],
   "source": [
    "m_hist = model.fit(X_train_new, y_train, epochs=n_epochs, \n",
    "                   batch_size=batchsize, verbose=1, validation_data=(X_cv_new, y_cv))\n",
    "\n",
    "score = model.evaluate(X_test_new, y_test, batch_size=batchsize)\n",
    "print('Test score:', score[0]) \n",
    "print('Test accuracy:', score[1])\n",
    "\n",
    "prediction = model.predict(X_test_new)\n",
    "y_pred = (prediction > 0.5)\n",
    "print('F1-score: ', f1_score(y_pred, y_test))\n",
    "print(\"Testing Accuracy of the model : \", accuracy_score(y_pred, y_test))\n",
    "\n",
    "final_output = final_output.append({\"Model\": 10,\n",
    "                                    \"Architecture\": 'Embedding ->BN->Dropout-> LSTM ->Dropout->LSTM ->Dropout-> Output(Sigmoid)', \n",
    "                                    \"TRAIN_LOSS\": '{:.5f}'.format(m_hist.history[\"loss\"][n_epochs-1]),\n",
    "                                    \"TEST_LOSS\": '{:.5f}'.format(score[0]),\n",
    "                                    \"TRAIN_ACC\": '{:.5f}'.format(m_hist.history[\"acc\"][n_epochs-1]),\n",
    "                                    \"TEST_ACC\": '{:.5f}'.format(score[1])}, ignore_index=True)\n",
    "\n",
    "fig,ax = plt.subplots(1,1)\n",
    "ax.set_xlabel('epoch')\n",
    "ax.set_ylabel('Categorical Crossentropy Loss')\n",
    "\n",
    "# list of epoch numbers\n",
    "x = list(range(1,n_epochs+1))\n",
    "\n",
    "vy = m_hist.history['val_loss']\n",
    "ty = m_hist.history['loss']\n",
    "plt_dynamic(x, vy, ty, ax)"
   ]
  },
  {
   "cell_type": "markdown",
   "metadata": {},
   "source": [
    "### Model M11 ( Embedding ->BN->Dropout->  LSTM -> Output( Relu ) )"
   ]
  },
  {
   "cell_type": "code",
   "execution_count": null,
   "metadata": {},
   "outputs": [],
   "source": [
    "# create the model M11\n",
    "embed_vector_length = 32\n",
    "model = Sequential()\n",
    "model.add(Embedding(5000, embed_vector_length, input_length=max_review_length))\n",
    "model.add(BatchNormalization())\n",
    "model.add(Dropout(rate=0.5))\n",
    "model.add(LSTM(100))\n",
    "model.add(Dense(1, activation='Relu'))\n",
    "model.compile(loss='binary_crossentropy', optimizer='adam', metrics=['accuracy'])\n",
    "print(\"***********************************************\")\n",
    "print(\"Printing the Model Summary\")\n",
    "print(model.summary())\n",
    "print(\"***********************************************\")"
   ]
  },
  {
   "cell_type": "code",
   "execution_count": null,
   "metadata": {},
   "outputs": [],
   "source": [
    "m_hist = model.fit(X_train_new, y_train, epochs=n_epochs, \n",
    "                   batch_size=batchsize, verbose=1, validation_data=(X_cv_new, y_cv))\n",
    "\n",
    "score = model.evaluate(X_test_new, y_test, batch_size=batchsize)\n",
    "print('Test score:', score[0]) \n",
    "print('Test accuracy:', score[1])\n",
    "\n",
    "prediction = model.predict(X_test_new)\n",
    "y_pred = (prediction > 0.5)\n",
    "print('F1-score: ', f1_score(y_pred, y_test))\n",
    "print(\"Testing Accuracy of the model : \", accuracy_score(y_pred, y_test))\n",
    "\n",
    "final_output = final_output.append({\"Model\": 11,\n",
    "                                    \"Architecture\": 'Embedding->BN->Dropout->LSTM->Dropout->LSTM->Dropout->Output(Sigmoid)', \n",
    "                                    \"TRAIN_LOSS\": '{:.5f}'.format(m_hist.history[\"loss\"][n_epochs-1]),\n",
    "                                    \"TEST_LOSS\": '{:.5f}'.format(score[0]),\n",
    "                                    \"TRAIN_ACC\": '{:.5f}'.format(m_hist.history[\"acc\"][n_epochs-1]),\n",
    "                                    \"TEST_ACC\": '{:.5f}'.format(score[1])}, ignore_index=True)\n",
    "\n",
    "fig,ax = plt.subplots(1,1)\n",
    "ax.set_xlabel('epoch')\n",
    "ax.set_ylabel('Categorical Crossentropy Loss')\n",
    "\n",
    "# list of epoch numbers\n",
    "x = list(range(1,n_epochs+1))\n",
    "\n",
    "vy = m_hist.history['val_loss']\n",
    "ty = m_hist.history['loss']\n",
    "plt_dynamic(x, vy, ty, ax)"
   ]
  },
  {
   "cell_type": "markdown",
   "metadata": {},
   "source": [
    "### Model M13 ( Embedding -> LSTM -> LSTM -> LSTM-> Output(Sigmoid)) (Max Sequence Length=130)"
   ]
  },
  {
   "cell_type": "code",
   "execution_count": 86,
   "metadata": {},
   "outputs": [
    {
     "name": "stdout",
     "output_type": "stream",
     "text": [
      "***********************************************\n",
      "Printing the Model Summary\n",
      "Model: \"sequential_4\"\n",
      "_________________________________________________________________\n",
      "Layer (type)                 Output Shape              Param #   \n",
      "=================================================================\n",
      "embedding_4 (Embedding)      (None, 130, 32)           160000    \n",
      "_________________________________________________________________\n",
      "lstm_7 (LSTM)                (None, 130, 100)          53200     \n",
      "_________________________________________________________________\n",
      "lstm_8 (LSTM)                (None, 130, 100)          80400     \n",
      "_________________________________________________________________\n",
      "lstm_9 (LSTM)                (None, 100)               80400     \n",
      "_________________________________________________________________\n",
      "dense_4 (Dense)              (None, 1)                 101       \n",
      "=================================================================\n",
      "Total params: 374,101\n",
      "Trainable params: 374,101\n",
      "Non-trainable params: 0\n",
      "_________________________________________________________________\n",
      "None\n",
      "***********************************************\n"
     ]
    }
   ],
   "source": [
    "# create the model M13\n",
    "embed_vector_length = 32\n",
    "model = Sequential()\n",
    "model.add(Embedding(5000, embed_vector_length, input_length=max_review_length))\n",
    "model.add(LSTM(100, return_sequences=True))\n",
    "model.add(LSTM(100, return_sequences=True))\n",
    "model.add(LSTM(100))\n",
    "model.add(Dense(1, activation='sigmoid'))\n",
    "model.compile(loss='binary_crossentropy', optimizer='adam', metrics=['accuracy'])\n",
    "print(\"***********************************************\")\n",
    "print(\"Printing the Model Summary\")\n",
    "print(model.summary())\n",
    "print(\"***********************************************\")"
   ]
  },
  {
   "cell_type": "code",
   "execution_count": 87,
   "metadata": {},
   "outputs": [
    {
     "name": "stdout",
     "output_type": "stream",
     "text": [
      "Epoch 1/5\n",
      "111/111 [==============================] - 644s 6s/step - loss: 0.3441 - accuracy: 0.8687 - val_loss: 0.2217 - val_accuracy: 0.9072\n",
      "Epoch 2/5\n",
      "111/111 [==============================] - 648s 6s/step - loss: 0.1858 - accuracy: 0.9229 - val_loss: 0.1853 - val_accuracy: 0.9216\n",
      "Epoch 3/5\n",
      "111/111 [==============================] - 636s 6s/step - loss: 0.1581 - accuracy: 0.9354 - val_loss: 0.1829 - val_accuracy: 0.9221\n",
      "Epoch 4/5\n",
      "111/111 [==============================] - 667s 6s/step - loss: 0.1460 - accuracy: 0.9414 - val_loss: 0.1825 - val_accuracy: 0.9257\n",
      "Epoch 5/5\n",
      "111/111 [==============================] - 643s 6s/step - loss: 0.1308 - accuracy: 0.9493 - val_loss: 0.1908 - val_accuracy: 0.9238\n",
      "35/35 [==============================] - 56s 2s/step - loss: 0.2052 - accuracy: 0.9200\n",
      "Test score: 0.20524831116199493\n",
      "Test accuracy: 0.9200248718261719\n",
      "F1-score:  0.9534401632062125\n",
      "Testing Accuracy of the model :  0.9200248685920985\n"
     ]
    },
    {
     "data": {
      "image/png": "[encoded data removed]",
      "text/plain": [
       "<Figure size 432x288 with 1 Axes>"
      ]
     },
     "metadata": {
      "needs_background": "light"
     },
     "output_type": "display_data"
    }
   ],
   "source": [
    "m_hist = model.fit(X_train_new, y_train, epochs=n_epochs, \n",
    "                   batch_size=batchsize, verbose=1, validation_data=(X_cv_new, y_cv))\n",
    "\n",
    "score = model.evaluate(X_test_new, y_test, batch_size=batchsize)\n",
    "print('Test score:', score[0]) \n",
    "print('Test accuracy:', score[1])\n",
    "\n",
    "prediction = model.predict(X_test_new)\n",
    "y_pred = (prediction > 0.5)\n",
    "print('F1-score: ', f1_score(y_pred, y_test))\n",
    "print(\"Testing Accuracy of the model : \", accuracy_score(y_pred, y_test))\n",
    "\n",
    "final_output = final_output.append({\"Model\": 13,\n",
    "                                    \"Architecture\": 'Embedding-LSTM-LSTM-LSTM-Sigmoid(input_length=130)', \n",
    "                                    \"TRAIN_LOSS\": '{:.5f}'.format(m_hist.history[\"loss\"][n_epochs-1]),\n",
    "                                    \"TEST_LOSS\": '{:.5f}'.format(score[0]),\n",
    "                                    \"TRAIN_ACC\": '{:.5f}'.format(m_hist.history[\"accuracy\"][n_epochs-1]),\n",
    "                                    \"TEST_ACC\": '{:.5f}'.format(score[1])}, ignore_index=True)\n",
    "\n",
    "fig,ax = plt.subplots(1,1)\n",
    "ax.set_xlabel('epoch')\n",
    "ax.set_ylabel('Categorical Crossentropy Loss')\n",
    "\n",
    "# list of epoch numbers\n",
    "x = list(range(1,n_epochs+1))\n",
    "\n",
    "vy = m_hist.history['val_loss']\n",
    "ty = m_hist.history['loss']\n",
    "plt_dynamic(x, vy, ty, ax)"
   ]
  },
  {
   "cell_type": "markdown",
   "metadata": {},
   "source": [
    "### Model M14 ( Embedding -> LSTM -> LSTM -> LSTM-> Output(Sigmoid)) (Max Sequence Length=130)"
   ]
  },
  {
   "cell_type": "code",
   "execution_count": 89,
   "metadata": {},
   "outputs": [
    {
     "name": "stdout",
     "output_type": "stream",
     "text": [
      "***********************************************\n",
      "Printing the Model Summary\n",
      "Model: \"sequential_5\"\n",
      "_________________________________________________________________\n",
      "Layer (type)                 Output Shape              Param #   \n",
      "=================================================================\n",
      "embedding_5 (Embedding)      (None, 600, 32)           160000    \n",
      "_________________________________________________________________\n",
      "lstm_10 (LSTM)               (None, 600, 100)          53200     \n",
      "_________________________________________________________________\n",
      "lstm_11 (LSTM)               (None, 600, 100)          80400     \n",
      "_________________________________________________________________\n",
      "lstm_12 (LSTM)               (None, 100)               80400     \n",
      "_________________________________________________________________\n",
      "dense_5 (Dense)              (None, 1)                 101       \n",
      "=================================================================\n",
      "Total params: 374,101\n",
      "Trainable params: 374,101\n",
      "Non-trainable params: 0\n",
      "_________________________________________________________________\n",
      "None\n",
      "***********************************************\n"
     ]
    }
   ],
   "source": [
    "# create the model M14\n",
    "embed_vector_length = 32\n",
    "model = Sequential()\n",
    "model.add(Embedding(5000, embed_vector_length, input_length=max_review_length))\n",
    "model.add(LSTM(100, return_sequences=True))\n",
    "model.add(LSTM(100, return_sequences=True))\n",
    "model.add(LSTM(100))\n",
    "model.add(Dense(1, activation='sigmoid'))\n",
    "model.compile(loss='binary_crossentropy', optimizer='adam', metrics=['accuracy'])\n",
    "print(\"***********************************************\")\n",
    "print(\"Printing the Model Summary\")\n",
    "print(model.summary())\n",
    "print(\"***********************************************\")"
   ]
  },
  {
   "cell_type": "code",
   "execution_count": 91,
   "metadata": {},
   "outputs": [
    {
     "name": "stdout",
     "output_type": "stream",
     "text": [
      "Epoch 1/5\n",
      "111/111 [==============================] - 5269s 47s/step - loss: 0.2139 - accuracy: 0.9117 - val_loss: 0.1952 - val_accuracy: 0.9196\n",
      "Epoch 2/5\n",
      "111/111 [==============================] - 5884s 53s/step - loss: 0.1682 - accuracy: 0.9321 - val_loss: 0.1914 - val_accuracy: 0.9228\n",
      "Epoch 3/5\n",
      "111/111 [==============================] - 6343s 57s/step - loss: 0.1539 - accuracy: 0.9383 - val_loss: 0.1857 - val_accuracy: 0.9223\n",
      "Epoch 4/5\n",
      "111/111 [==============================] - 5817s 52s/step - loss: 0.1429 - accuracy: 0.9425 - val_loss: 0.2029 - val_accuracy: 0.9248\n",
      "Epoch 5/5\n",
      "111/111 [==============================] - 5696s 51s/step - loss: 0.1365 - accuracy: 0.9460 - val_loss: 0.2008 - val_accuracy: 0.9168\n",
      "35/35 [==============================] - 287s 8s/step - loss: 0.2121 - accuracy: 0.9128\n",
      "Test score: 0.2120521515607834\n",
      "Test accuracy: 0.9127903580665588\n",
      "F1-score:  0.9492150215581082\n",
      "Testing Accuracy of the model :  0.9127903690725145\n"
     ]
    },
    {
     "data": {
      "image/png": "[encoded data removed]",
      "text/plain": [
       "<Figure size 432x288 with 1 Axes>"
      ]
     },
     "metadata": {
      "needs_background": "light"
     },
     "output_type": "display_data"
    }
   ],
   "source": [
    "m_hist = model.fit(X_train_new, y_train, epochs=n_epochs, \n",
    "                   batch_size=batchsize, verbose=1, validation_data=(X_cv_new, y_cv))\n",
    "\n",
    "score = model.evaluate(X_test_new, y_test, batch_size=batchsize)\n",
    "print('Test score:', score[0]) \n",
    "print('Test accuracy:', score[1])\n",
    "\n",
    "prediction = model.predict(X_test_new)\n",
    "y_pred = (prediction > 0.5)\n",
    "print('F1-score: ', f1_score(y_pred, y_test))\n",
    "print(\"Testing Accuracy of the model : \", accuracy_score(y_pred, y_test))\n",
    "\n",
    "final_output = final_output.append({\"Model\": 14,\n",
    "                                    \"Architecture\": 'Embedding-LSTM-LSTM-LSTM-Sigmoid(input_length=600)', \n",
    "                                    \"TRAIN_LOSS\": '{:.5f}'.format(m_hist.history[\"loss\"][n_epochs-1]),\n",
    "                                    \"TEST_LOSS\": '{:.5f}'.format(score[0]),\n",
    "                                    \"TRAIN_ACC\": '{:.5f}'.format(m_hist.history[\"accuracy\"][n_epochs-1]),\n",
    "                                    \"TEST_ACC\": '{:.5f}'.format(score[1])}, ignore_index=True)\n",
    "\n",
    "fig,ax = plt.subplots(1,1)\n",
    "ax.set_xlabel('epoch')\n",
    "ax.set_ylabel('Categorical Crossentropy Loss')\n",
    "\n",
    "# list of epoch numbers\n",
    "x = list(range(1,n_epochs+1))\n",
    "\n",
    "vy = m_hist.history['val_loss']\n",
    "ty = m_hist.history['loss']\n",
    "plt_dynamic(x, vy, ty, ax)"
   ]
  },
  {
   "cell_type": "markdown",
   "metadata": {},
   "source": [
    "# Conclusion"
   ]
  },
  {
   "cell_type": "code",
   "execution_count": null,
   "metadata": {},
   "outputs": [],
   "source": [
    "final_output"
   ]
  }
 ],
 "metadata": {
  "kernelspec": {
   "display_name": "Python 3",
   "language": "python",
   "name": "python3"
  },
  "language_info": {
   "codemirror_mode": {
    "name": "ipython",
    "version": 3
   },
   "file_extension": ".py",
   "mimetype": "text/x-python",
   "name": "python",
   "nbconvert_exporter": "python",
   "pygments_lexer": "ipython3",
   "version": "3.8.3"
  }
 },
 "nbformat": 4,
 "nbformat_minor": 4
}
