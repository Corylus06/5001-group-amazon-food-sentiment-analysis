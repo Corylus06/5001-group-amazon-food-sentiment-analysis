{
 "cells": [
  {
   "cell_type": "markdown",
   "metadata": {},
   "source": [
    "## 1. Preprocessing"
   ]
  },
  {
   "cell_type": "code",
   "execution_count": 1,
   "metadata": {},
   "outputs": [],
   "source": [
    "%matplotlib inline\n",
    "import sqlite3\n",
    "import numpy as np\n",
    "import pandas as pd\n",
    "import matplotlib.pyplot as plt\n",
    "import scikitplot.metrics as skplt\n",
    "import math\n",
    "import datetime\n",
    "import warnings\n",
    "warnings.filterwarnings('ignore')\n",
    "\n",
    "from sklearn.preprocessing import StandardScaler\n",
    "\n",
    "from sklearn.model_selection import cross_val_score\n",
    "from sklearn.model_selection import train_test_split\n",
    "from sklearn.model_selection import GridSearchCV\n",
    "\n",
    "from sklearn import datasets\n",
    "\n",
    "import gensim\n",
    "import string\n",
    "import pickle\n",
    "import re\n",
    "import nltk\n",
    "import seaborn as sns\n",
    "\n",
    "from nltk.corpus import stopwords\n",
    "from nltk.stem import PorterStemmer\n",
    "from nltk.stem.wordnet import WordNetLemmatizer\n",
    "from nltk import word_tokenize, pos_tag\n",
    "from nltk.corpus import wordnet\n",
    "\n",
    "\n",
    "from gensim.models import Word2Vec\n",
    "from gensim.models import KeyedVectors\n",
    "\n",
    "from sklearn.feature_extraction.text import CountVectorizer\n",
    "from sklearn.feature_extraction.text import TfidfTransformer\n",
    "from sklearn.feature_extraction.text import TfidfVectorizer\n",
    "\n",
    "from scipy.stats import uniform\n",
    "\n",
    "from sklearn.preprocessing import StandardScaler\n",
    "from sklearn.manifold import TSNE\n",
    "from tqdm import tqdm\n",
    "\n",
    "from sklearn import metrics\n",
    "from sklearn.metrics import classification_report\n",
    "from sklearn.metrics import accuracy_score\n",
    "from sklearn.metrics import confusion_matrix\n",
    "from sklearn.metrics import precision_score\n",
    "from sklearn.metrics import f1_score\n",
    "from sklearn.metrics import recall_score\n",
    "from sklearn.metrics import confusion_matrix\n",
    "from sklearn.metrics import roc_curve, auc\n",
    "from sklearn.metrics import roc_auc_score\n",
    "\n",
    "from collections import Counter\n",
    "from sklearn.calibration import CalibratedClassifierCV"
   ]
  },
  {
   "cell_type": "code",
   "execution_count": 2,
   "metadata": {},
   "outputs": [],
   "source": [
    "from sklearn.naive_bayes import MultinomialNB\n",
    "from sklearn.naive_bayes import BernoulliNB\n",
    "from sklearn.linear_model import LogisticRegression\n",
    "from sklearn.linear_model import SGDClassifier"
   ]
  },
  {
   "cell_type": "markdown",
   "metadata": {},
   "source": [
    "1.1 Load the data"
   ]
  },
  {
   "cell_type": "code",
   "execution_count": 3,
   "metadata": {
    "scrolled": true
   },
   "outputs": [
    {
     "name": "stdout",
     "output_type": "stream",
     "text": [
      "(525814, 10)\n"
     ]
    },
    {
     "data": {
      "text/html": [
       "<div>\n",
       "<style scoped>\n",
       "    .dataframe tbody tr th:only-of-type {\n",
       "        vertical-align: middle;\n",
       "    }\n",
       "\n",
       "    .dataframe tbody tr th {\n",
       "        vertical-align: top;\n",
       "    }\n",
       "\n",
       "    .dataframe thead th {\n",
       "        text-align: right;\n",
       "    }\n",
       "</style>\n",
       "<table border=\"1\" class=\"dataframe\">\n",
       "  <thead>\n",
       "    <tr style=\"text-align: right;\">\n",
       "      <th></th>\n",
       "      <th>Id</th>\n",
       "      <th>ProductId</th>\n",
       "      <th>UserId</th>\n",
       "      <th>ProfileName</th>\n",
       "      <th>HelpfulnessNumerator</th>\n",
       "      <th>HelpfulnessDenominator</th>\n",
       "      <th>Score</th>\n",
       "      <th>Time</th>\n",
       "      <th>Summary</th>\n",
       "      <th>Text</th>\n",
       "    </tr>\n",
       "  </thead>\n",
       "  <tbody>\n",
       "    <tr>\n",
       "      <th>0</th>\n",
       "      <td>1</td>\n",
       "      <td>B001E4KFG0</td>\n",
       "      <td>A3SGXH7AUHU8GW</td>\n",
       "      <td>delmartian</td>\n",
       "      <td>1</td>\n",
       "      <td>1</td>\n",
       "      <td>5</td>\n",
       "      <td>1303862400</td>\n",
       "      <td>Good Quality Dog Food</td>\n",
       "      <td>I have bought several of the Vitality canned d...</td>\n",
       "    </tr>\n",
       "    <tr>\n",
       "      <th>1</th>\n",
       "      <td>2</td>\n",
       "      <td>B00813GRG4</td>\n",
       "      <td>A1D87F6ZCVE5NK</td>\n",
       "      <td>dll pa</td>\n",
       "      <td>0</td>\n",
       "      <td>0</td>\n",
       "      <td>1</td>\n",
       "      <td>1346976000</td>\n",
       "      <td>Not as Advertised</td>\n",
       "      <td>Product arrived labeled as Jumbo Salted Peanut...</td>\n",
       "    </tr>\n",
       "    <tr>\n",
       "      <th>2</th>\n",
       "      <td>3</td>\n",
       "      <td>B000LQOCH0</td>\n",
       "      <td>ABXLMWJIXXAIN</td>\n",
       "      <td>Natalia Corres \"Natalia Corres\"</td>\n",
       "      <td>1</td>\n",
       "      <td>1</td>\n",
       "      <td>4</td>\n",
       "      <td>1219017600</td>\n",
       "      <td>\"Delight\" says it all</td>\n",
       "      <td>This is a confection that has been around a fe...</td>\n",
       "    </tr>\n",
       "    <tr>\n",
       "      <th>3</th>\n",
       "      <td>4</td>\n",
       "      <td>B000UA0QIQ</td>\n",
       "      <td>A395BORC6FGVXV</td>\n",
       "      <td>Karl</td>\n",
       "      <td>3</td>\n",
       "      <td>3</td>\n",
       "      <td>2</td>\n",
       "      <td>1307923200</td>\n",
       "      <td>Cough Medicine</td>\n",
       "      <td>If you are looking for the secret ingredient i...</td>\n",
       "    </tr>\n",
       "    <tr>\n",
       "      <th>4</th>\n",
       "      <td>5</td>\n",
       "      <td>B006K2ZZ7K</td>\n",
       "      <td>A1UQRSCLF8GW1T</td>\n",
       "      <td>Michael D. Bigham \"M. Wassir\"</td>\n",
       "      <td>0</td>\n",
       "      <td>0</td>\n",
       "      <td>5</td>\n",
       "      <td>1350777600</td>\n",
       "      <td>Great taffy</td>\n",
       "      <td>Great taffy at a great price.  There was a wid...</td>\n",
       "    </tr>\n",
       "    <tr>\n",
       "      <th>...</th>\n",
       "      <td>...</td>\n",
       "      <td>...</td>\n",
       "      <td>...</td>\n",
       "      <td>...</td>\n",
       "      <td>...</td>\n",
       "      <td>...</td>\n",
       "      <td>...</td>\n",
       "      <td>...</td>\n",
       "      <td>...</td>\n",
       "      <td>...</td>\n",
       "    </tr>\n",
       "    <tr>\n",
       "      <th>525809</th>\n",
       "      <td>568450</td>\n",
       "      <td>B001EO7N10</td>\n",
       "      <td>A28KG5XORO54AY</td>\n",
       "      <td>Lettie D. Carter</td>\n",
       "      <td>0</td>\n",
       "      <td>0</td>\n",
       "      <td>5</td>\n",
       "      <td>1299628800</td>\n",
       "      <td>Will not do without</td>\n",
       "      <td>Great for sesame chicken..this is a good if no...</td>\n",
       "    </tr>\n",
       "    <tr>\n",
       "      <th>525810</th>\n",
       "      <td>568451</td>\n",
       "      <td>B003S1WTCU</td>\n",
       "      <td>A3I8AFVPEE8KI5</td>\n",
       "      <td>R. Sawyer</td>\n",
       "      <td>0</td>\n",
       "      <td>0</td>\n",
       "      <td>2</td>\n",
       "      <td>1331251200</td>\n",
       "      <td>disappointed</td>\n",
       "      <td>I'm disappointed with the flavor. The chocolat...</td>\n",
       "    </tr>\n",
       "    <tr>\n",
       "      <th>525811</th>\n",
       "      <td>568452</td>\n",
       "      <td>B004I613EE</td>\n",
       "      <td>A121AA1GQV751Z</td>\n",
       "      <td>pksd \"pk_007\"</td>\n",
       "      <td>2</td>\n",
       "      <td>2</td>\n",
       "      <td>5</td>\n",
       "      <td>1329782400</td>\n",
       "      <td>Perfect for our maltipoo</td>\n",
       "      <td>These stars are small, so you can give 10-15 o...</td>\n",
       "    </tr>\n",
       "    <tr>\n",
       "      <th>525812</th>\n",
       "      <td>568453</td>\n",
       "      <td>B004I613EE</td>\n",
       "      <td>A3IBEVCTXKNOH</td>\n",
       "      <td>Kathy A. Welch \"katwel\"</td>\n",
       "      <td>1</td>\n",
       "      <td>1</td>\n",
       "      <td>5</td>\n",
       "      <td>1331596800</td>\n",
       "      <td>Favorite Training and reward treat</td>\n",
       "      <td>These are the BEST treats for training and rew...</td>\n",
       "    </tr>\n",
       "    <tr>\n",
       "      <th>525813</th>\n",
       "      <td>568454</td>\n",
       "      <td>B001LR2CU2</td>\n",
       "      <td>A3LGQPJCZVL9UC</td>\n",
       "      <td>srfell17</td>\n",
       "      <td>0</td>\n",
       "      <td>0</td>\n",
       "      <td>5</td>\n",
       "      <td>1338422400</td>\n",
       "      <td>Great Honey</td>\n",
       "      <td>I am very satisfied ,product is as advertised,...</td>\n",
       "    </tr>\n",
       "  </tbody>\n",
       "</table>\n",
       "<p>525814 rows × 10 columns</p>\n",
       "</div>"
      ],
      "text/plain": [
       "            Id   ProductId          UserId                      ProfileName  \\\n",
       "0            1  B001E4KFG0  A3SGXH7AUHU8GW                       delmartian   \n",
       "1            2  B00813GRG4  A1D87F6ZCVE5NK                           dll pa   \n",
       "2            3  B000LQOCH0   ABXLMWJIXXAIN  Natalia Corres \"Natalia Corres\"   \n",
       "3            4  B000UA0QIQ  A395BORC6FGVXV                             Karl   \n",
       "4            5  B006K2ZZ7K  A1UQRSCLF8GW1T    Michael D. Bigham \"M. Wassir\"   \n",
       "...        ...         ...             ...                              ...   \n",
       "525809  568450  B001EO7N10  A28KG5XORO54AY                 Lettie D. Carter   \n",
       "525810  568451  B003S1WTCU  A3I8AFVPEE8KI5                        R. Sawyer   \n",
       "525811  568452  B004I613EE  A121AA1GQV751Z                    pksd \"pk_007\"   \n",
       "525812  568453  B004I613EE   A3IBEVCTXKNOH          Kathy A. Welch \"katwel\"   \n",
       "525813  568454  B001LR2CU2  A3LGQPJCZVL9UC                         srfell17   \n",
       "\n",
       "        HelpfulnessNumerator  HelpfulnessDenominator  Score        Time  \\\n",
       "0                          1                       1      5  1303862400   \n",
       "1                          0                       0      1  1346976000   \n",
       "2                          1                       1      4  1219017600   \n",
       "3                          3                       3      2  1307923200   \n",
       "4                          0                       0      5  1350777600   \n",
       "...                      ...                     ...    ...         ...   \n",
       "525809                     0                       0      5  1299628800   \n",
       "525810                     0                       0      2  1331251200   \n",
       "525811                     2                       2      5  1329782400   \n",
       "525812                     1                       1      5  1331596800   \n",
       "525813                     0                       0      5  1338422400   \n",
       "\n",
       "                                   Summary  \\\n",
       "0                    Good Quality Dog Food   \n",
       "1                        Not as Advertised   \n",
       "2                    \"Delight\" says it all   \n",
       "3                           Cough Medicine   \n",
       "4                              Great taffy   \n",
       "...                                    ...   \n",
       "525809                 Will not do without   \n",
       "525810                        disappointed   \n",
       "525811            Perfect for our maltipoo   \n",
       "525812  Favorite Training and reward treat   \n",
       "525813                         Great Honey   \n",
       "\n",
       "                                                     Text  \n",
       "0       I have bought several of the Vitality canned d...  \n",
       "1       Product arrived labeled as Jumbo Salted Peanut...  \n",
       "2       This is a confection that has been around a fe...  \n",
       "3       If you are looking for the secret ingredient i...  \n",
       "4       Great taffy at a great price.  There was a wid...  \n",
       "...                                                   ...  \n",
       "525809  Great for sesame chicken..this is a good if no...  \n",
       "525810  I'm disappointed with the flavor. The chocolat...  \n",
       "525811  These stars are small, so you can give 10-15 o...  \n",
       "525812  These are the BEST treats for training and rew...  \n",
       "525813  I am very satisfied ,product is as advertised,...  \n",
       "\n",
       "[525814 rows x 10 columns]"
      ]
     },
     "execution_count": 3,
     "metadata": {},
     "output_type": "execute_result"
    }
   ],
   "source": [
    "con = sqlite3.connect('database.sqlite')\n",
    "\n",
    "messages = pd.read_sql_query(\"\"\"\n",
    "SELECT *\n",
    "FROM Reviews\n",
    "WHERE Score != 3\n",
    "\"\"\", con)\n",
    "\n",
    "print(messages.shape)\n",
    "messages"
   ]
  },
  {
   "cell_type": "markdown",
   "metadata": {},
   "source": [
    "1.2 Remove duplicates and null value"
   ]
  },
  {
   "cell_type": "code",
   "execution_count": 4,
   "metadata": {},
   "outputs": [
    {
     "data": {
      "text/plain": [
       "(364173, 10)"
      ]
     },
     "execution_count": 4,
     "metadata": {},
     "output_type": "execute_result"
    }
   ],
   "source": [
    "messages[\"Time\"] = messages[\"Time\"].map(lambda t: datetime.datetime.fromtimestamp(int(t)).strftime('%Y-%m-%d %H:%M:%S'))\n",
    "sortedData = messages.sort_values('ProductId',axis=0,kind=\"quicksort\", ascending=True)\n",
    "final = sortedData.drop_duplicates(subset={\"UserId\",\"ProfileName\",\"Time\",\"Text\"},keep=\"first\",inplace=False)\n",
    "# drop row that include null value in text column and score column\n",
    "messages = final[['Time','Summary','Score']].dropna()\n",
    "final.shape"
   ]
  },
  {
   "cell_type": "markdown",
   "metadata": {},
   "source": [
    "1.3 Distribution of original data"
   ]
  },
  {
   "cell_type": "code",
   "execution_count": 5,
   "metadata": {},
   "outputs": [
    {
     "data": {
      "image/png": "[encoded data removed]",
      "text/plain": [
       "<Figure size 432x288 with 1 Axes>"
      ]
     },
     "metadata": {
      "needs_background": "light"
     },
     "output_type": "display_data"
    }
   ],
   "source": [
    "color_bar = ['darkslateblue','mediumslateblue','mediumpurple','blueviolet','darkorchid','darkviolet','mediumorchid',\n",
    "             'm','fuchsia','magenta','orchid','deeppink','hotpink','pink','lightpink']\n",
    "ax=messages.Score.value_counts().plot(kind='bar',color=color_bar)\n",
    "fig = ax.get_figure()\n",
    "fig.savefig(\"score_origin.png\");"
   ]
  },
  {
   "cell_type": "markdown",
   "metadata": {},
   "source": [
    "1.4 Transform origianl score to negative and positive"
   ]
  },
  {
   "cell_type": "markdown",
   "metadata": {},
   "source": [
    "As we only want to get the global sentiment of the recommendations (positive or negative), we will purposefully ignore all Scores equal to 3. If the score id above 3, then the recommendation wil be set to \"postive\". Otherwise, it will be set to \"negative\". "
   ]
  },
  {
   "cell_type": "code",
   "execution_count": 6,
   "metadata": {},
   "outputs": [
    {
     "data": {
      "text/html": [
       "<div>\n",
       "<style scoped>\n",
       "    .dataframe tbody tr th:only-of-type {\n",
       "        vertical-align: middle;\n",
       "    }\n",
       "\n",
       "    .dataframe tbody tr th {\n",
       "        vertical-align: top;\n",
       "    }\n",
       "\n",
       "    .dataframe thead th {\n",
       "        text-align: right;\n",
       "    }\n",
       "</style>\n",
       "<table border=\"1\" class=\"dataframe\">\n",
       "  <thead>\n",
       "    <tr style=\"text-align: right;\">\n",
       "      <th></th>\n",
       "      <th>Time</th>\n",
       "      <th>Summary</th>\n",
       "      <th>Score</th>\n",
       "    </tr>\n",
       "  </thead>\n",
       "  <tbody>\n",
       "    <tr>\n",
       "      <th>138706</th>\n",
       "      <td>1999-10-08 08:00:00</td>\n",
       "      <td>EVERY book is educational</td>\n",
       "      <td>positive</td>\n",
       "    </tr>\n",
       "    <tr>\n",
       "      <th>138688</th>\n",
       "      <td>2007-11-11 08:00:00</td>\n",
       "      <td>Love the book, miss the hard cover version</td>\n",
       "      <td>positive</td>\n",
       "    </tr>\n",
       "    <tr>\n",
       "      <th>138689</th>\n",
       "      <td>2007-10-04 08:00:00</td>\n",
       "      <td>chicken soup with rice months</td>\n",
       "      <td>positive</td>\n",
       "    </tr>\n",
       "    <tr>\n",
       "      <th>138690</th>\n",
       "      <td>2004-02-06 08:00:00</td>\n",
       "      <td>a good swingy rhythm for reading aloud</td>\n",
       "      <td>positive</td>\n",
       "    </tr>\n",
       "    <tr>\n",
       "      <th>138691</th>\n",
       "      <td>2002-04-10 08:00:00</td>\n",
       "      <td>A great way to learn the months</td>\n",
       "      <td>positive</td>\n",
       "    </tr>\n",
       "  </tbody>\n",
       "</table>\n",
       "</div>"
      ],
      "text/plain": [
       "                       Time                                     Summary  \\\n",
       "138706  1999-10-08 08:00:00                   EVERY book is educational   \n",
       "138688  2007-11-11 08:00:00  Love the book, miss the hard cover version   \n",
       "138689  2007-10-04 08:00:00               chicken soup with rice months   \n",
       "138690  2004-02-06 08:00:00      a good swingy rhythm for reading aloud   \n",
       "138691  2002-04-10 08:00:00             A great way to learn the months   \n",
       "\n",
       "           Score  \n",
       "138706  positive  \n",
       "138688  positive  \n",
       "138689  positive  \n",
       "138690  positive  \n",
       "138691  positive  "
      ]
     },
     "execution_count": 6,
     "metadata": {},
     "output_type": "execute_result"
    },
    {
     "data": {
      "image/png": "[encoded data removed]",
      "text/plain": [
       "<Figure size 432x288 with 1 Axes>"
      ]
     },
     "metadata": {
      "needs_background": "light"
     },
     "output_type": "display_data"
    }
   ],
   "source": [
    "def partition(x):\n",
    "    if x < 3:\n",
    "        return 'negative'\n",
    "    return 'positive'\n",
    "\n",
    "score = messages['Score']\n",
    "messages['Score'] = score.map(partition)\n",
    "text = messages['Summary']\n",
    "\n",
    "# split and see the rating distribution\n",
    "ax=messages['Score'].value_counts().plot(kind='bar',color=color_bar)\n",
    "fig = ax.get_figure()\n",
    "fig.savefig(\"score_pos_neg.png\")\n",
    "messages.head()"
   ]
  },
  {
   "cell_type": "markdown",
   "metadata": {},
   "source": [
    "1.5 Down sampling and split the data"
   ]
  },
  {
   "cell_type": "markdown",
   "metadata": {},
   "source": [
    "Down sampling and form a balanced dataset"
   ]
  },
  {
   "cell_type": "code",
   "execution_count": 7,
   "metadata": {},
   "outputs": [
    {
     "data": {
      "text/html": [
       "<div>\n",
       "<style scoped>\n",
       "    .dataframe tbody tr th:only-of-type {\n",
       "        vertical-align: middle;\n",
       "    }\n",
       "\n",
       "    .dataframe tbody tr th {\n",
       "        vertical-align: top;\n",
       "    }\n",
       "\n",
       "    .dataframe thead th {\n",
       "        text-align: right;\n",
       "    }\n",
       "</style>\n",
       "<table border=\"1\" class=\"dataframe\">\n",
       "  <thead>\n",
       "    <tr style=\"text-align: right;\">\n",
       "      <th></th>\n",
       "      <th>Time</th>\n",
       "      <th>Summary</th>\n",
       "      <th>Score</th>\n",
       "    </tr>\n",
       "  </thead>\n",
       "  <tbody>\n",
       "    <tr>\n",
       "      <th>209484</th>\n",
       "      <td>2011-11-19 08:00:00</td>\n",
       "      <td>Good stuff!</td>\n",
       "      <td>positive</td>\n",
       "    </tr>\n",
       "    <tr>\n",
       "      <th>140711</th>\n",
       "      <td>2011-08-23 08:00:00</td>\n",
       "      <td>PAWS UP * * * * * *</td>\n",
       "      <td>positive</td>\n",
       "    </tr>\n",
       "    <tr>\n",
       "      <th>227135</th>\n",
       "      <td>2012-03-20 08:00:00</td>\n",
       "      <td>Choir Food</td>\n",
       "      <td>positive</td>\n",
       "    </tr>\n",
       "    <tr>\n",
       "      <th>225124</th>\n",
       "      <td>2012-03-26 08:00:00</td>\n",
       "      <td>Good Stuff!</td>\n",
       "      <td>positive</td>\n",
       "    </tr>\n",
       "    <tr>\n",
       "      <th>15481</th>\n",
       "      <td>2009-05-21 08:00:00</td>\n",
       "      <td>Good drink, something different to try rather ...</td>\n",
       "      <td>positive</td>\n",
       "    </tr>\n",
       "    <tr>\n",
       "      <th>...</th>\n",
       "      <td>...</td>\n",
       "      <td>...</td>\n",
       "      <td>...</td>\n",
       "    </tr>\n",
       "    <tr>\n",
       "      <th>240366</th>\n",
       "      <td>2012-01-20 08:00:00</td>\n",
       "      <td>DON'T BUY HERE- You'll spend twice as much as ...</td>\n",
       "      <td>negative</td>\n",
       "    </tr>\n",
       "    <tr>\n",
       "      <th>350289</th>\n",
       "      <td>2012-06-23 08:00:00</td>\n",
       "      <td>Awful.</td>\n",
       "      <td>negative</td>\n",
       "    </tr>\n",
       "    <tr>\n",
       "      <th>115382</th>\n",
       "      <td>2011-05-19 08:00:00</td>\n",
       "      <td>Ruined a perfect thing.</td>\n",
       "      <td>negative</td>\n",
       "    </tr>\n",
       "    <tr>\n",
       "      <th>175291</th>\n",
       "      <td>2012-04-08 08:00:00</td>\n",
       "      <td>Upset tummies</td>\n",
       "      <td>negative</td>\n",
       "    </tr>\n",
       "    <tr>\n",
       "      <th>83616</th>\n",
       "      <td>2012-05-08 08:00:00</td>\n",
       "      <td>Beyond bitter</td>\n",
       "      <td>negative</td>\n",
       "    </tr>\n",
       "  </tbody>\n",
       "</table>\n",
       "<p>113346 rows × 3 columns</p>\n",
       "</div>"
      ],
      "text/plain": [
       "                       Time  \\\n",
       "209484  2011-11-19 08:00:00   \n",
       "140711  2011-08-23 08:00:00   \n",
       "227135  2012-03-20 08:00:00   \n",
       "225124  2012-03-26 08:00:00   \n",
       "15481   2009-05-21 08:00:00   \n",
       "...                     ...   \n",
       "240366  2012-01-20 08:00:00   \n",
       "350289  2012-06-23 08:00:00   \n",
       "115382  2011-05-19 08:00:00   \n",
       "175291  2012-04-08 08:00:00   \n",
       "83616   2012-05-08 08:00:00   \n",
       "\n",
       "                                                  Summary     Score  \n",
       "209484                                        Good stuff!  positive  \n",
       "140711                                PAWS UP * * * * * *  positive  \n",
       "227135                                         Choir Food  positive  \n",
       "225124                                        Good Stuff!  positive  \n",
       "15481   Good drink, something different to try rather ...  positive  \n",
       "...                                                   ...       ...  \n",
       "240366  DON'T BUY HERE- You'll spend twice as much as ...  negative  \n",
       "350289                                             Awful.  negative  \n",
       "115382                            Ruined a perfect thing.  negative  \n",
       "175291                                      Upset tummies  negative  \n",
       "83616                                       Beyond bitter  negative  \n",
       "\n",
       "[113346 rows x 3 columns]"
      ]
     },
     "execution_count": 7,
     "metadata": {},
     "output_type": "execute_result"
    },
    {
     "data": {
      "image/png": "[encoded data removed]",
      "text/plain": [
       "<Figure size 432x288 with 1 Axes>"
      ]
     },
     "metadata": {
      "needs_background": "light"
     },
     "output_type": "display_data"
    }
   ],
   "source": [
    "score = messages['Score']\n",
    "summary = messages['Summary']\n",
    "finalp = messages[messages.Score == 'positive']\n",
    "finalp = finalp.sample(frac=0.185,random_state=1)\n",
    "\n",
    "finaln = messages[messages.Score == 'negative']\n",
    "finaln = finaln.sample(frac=0.99,random_state=1)\n",
    "\n",
    "\n",
    "final = pd.concat([finalp,finaln],axis=0)\n",
    "final['Score'].value_counts().plot(kind='bar',color=color_bar)\n",
    "final"
   ]
  },
  {
   "cell_type": "markdown",
   "metadata": {},
   "source": [
    "The data will be split into an training set and a test set with a test set ratio of 0.2"
   ]
  },
  {
   "cell_type": "code",
   "execution_count": 8,
   "metadata": {},
   "outputs": [],
   "source": [
    "score = final['Score']\n",
    "text = final['Summary']\n",
    "\n",
    "x_train, x_test, y_train, y_test = train_test_split(text, score, test_size=0.2, random_state=50)"
   ]
  },
  {
   "cell_type": "markdown",
   "metadata": {},
   "source": [
    "## 2. Data Cleaning"
   ]
  },
  {
   "cell_type": "markdown",
   "metadata": {},
   "source": [
    "To format our data and build the Term-doc incidence matrix, many operations will be performed on the data :\n",
    "\n",
    "- Lowering\n",
    "- Stop words removal\n",
    "- Pruning (numbers and punctuation)\n",
    "- POS(part of speech)\n",
    "- Lemmatization"
   ]
  },
  {
   "cell_type": "code",
   "execution_count": 9,
   "metadata": {},
   "outputs": [
    {
     "name": "stderr",
     "output_type": "stream",
     "text": [
      "[nltk_data] Downloading package stopwords to\n",
      "[nltk_data]     C:\\Users\\Ivy_Chen\\AppData\\Roaming\\nltk_data...\n",
      "[nltk_data]   Package stopwords is already up-to-date!\n",
      "[nltk_data] Downloading package averaged_perceptron_tagger to\n",
      "[nltk_data]     C:\\Users\\Ivy_Chen\\AppData\\Roaming\\nltk_data...\n",
      "[nltk_data]   Package averaged_perceptron_tagger is already up-to-\n",
      "[nltk_data]       date!\n",
      "[nltk_data] Downloading package wordnet to\n",
      "[nltk_data]     C:\\Users\\Ivy_Chen\\AppData\\Roaming\\nltk_data...\n",
      "[nltk_data]   Package wordnet is already up-to-date!\n"
     ]
    },
    {
     "data": {
      "text/plain": [
       "True"
      ]
     },
     "execution_count": 9,
     "metadata": {},
     "output_type": "execute_result"
    }
   ],
   "source": [
    "nltk.download('stopwords')\n",
    "nltk.download('averaged_perceptron_tagger')\n",
    "nltk.download('wordnet')"
   ]
  },
  {
   "cell_type": "code",
   "execution_count": 10,
   "metadata": {},
   "outputs": [],
   "source": [
    "# 获取单词的词性\n",
    "def get_wordnet_pos(tag):\n",
    "    if tag.startswith('J'):\n",
    "        return wordnet.ADJ\n",
    "    elif tag.startswith('V'):\n",
    "        return wordnet.VERB\n",
    "    elif tag.startswith('N'):\n",
    "        return wordnet.NOUN\n",
    "    elif tag.startswith('R'):\n",
    "        return wordnet.ADV\n",
    "    else:\n",
    "        return None"
   ]
  },
  {
   "cell_type": "code",
   "execution_count": 11,
   "metadata": {},
   "outputs": [],
   "source": [
    "def tokenize(text,wnl):\n",
    "    tokens = nltk.word_tokenize(text)\n",
    "    tagged_sent = pos_tag(tokens)     # 获取单词词性\n",
    "#     tokens = [word for word in tokens if word not in stopwords.words('english')]\n",
    "    lems = lem_tokens(tagged_sent, wnl)\n",
    "    return ' '.join(lems)"
   ]
  },
  {
   "cell_type": "code",
   "execution_count": 12,
   "metadata": {},
   "outputs": [],
   "source": [
    "def lem_tokens(tagged_sent, wnl):\n",
    "    lemmas_sent = []\n",
    "    for tag in tagged_sent:\n",
    "        wordnet_pos = get_wordnet_pos(tag[1]) or wordnet.NOUN\n",
    "        lemmas_sent.append(wnl.lemmatize(tag[0], pos=wordnet_pos)) # 词形还原\n",
    "    return lemmas_sent"
   ]
  },
  {
   "cell_type": "code",
   "execution_count": 13,
   "metadata": {},
   "outputs": [],
   "source": [
    "def lem_lower_pruning(x_train,x_test,wnl):\n",
    "    intab = string.punctuation\n",
    "    outtab = \"                                \"\n",
    "    trantab = str.maketrans(intab, outtab)\n",
    "    \n",
    "    total=len(x_train)+len(x_test)\n",
    "    cnt=0\n",
    "\n",
    "    #--- Training set\n",
    "    corpus = []\n",
    "    for text in x_train:\n",
    "        text = text.lower()\n",
    "        text = text.translate(trantab)\n",
    "        text=tokenize(text,wnl)\n",
    "        corpus.append(text)\n",
    "        cnt += 1\n",
    "        if cnt%(int(total/20))==0:\n",
    "            print (\"%d%% finished\" % (5*cnt/(int(total/20))))\n",
    "\n",
    "    #--- Test set\n",
    "    test_set = []\n",
    "    for text in x_test:\n",
    "        text = text.lower()\n",
    "        text = text.translate(trantab)\n",
    "        text=tokenize(text,wnl)\n",
    "        test_set.append(text)\n",
    "        cnt += 1\n",
    "        if cnt%(int(total/20))==0:\n",
    "            print (\"%d%% finished\" % (5*cnt/(int(total/20))))\n",
    "    \n",
    "    df = pd.DataFrame({'Before': x_train, 'After': corpus})\n",
    "    print(df.head(10))\n",
    "\n",
    "    prediction = dict()\n",
    "    return corpus, test_set"
   ]
  },
  {
   "cell_type": "code",
   "execution_count": 14,
   "metadata": {},
   "outputs": [
    {
     "name": "stdout",
     "output_type": "stream",
     "text": [
      "5% finished\n",
      "10% finished\n",
      "15% finished\n",
      "20% finished\n",
      "25% finished\n",
      "30% finished\n",
      "35% finished\n",
      "40% finished\n",
      "45% finished\n",
      "50% finished\n",
      "55% finished\n",
      "60% finished\n",
      "65% finished\n",
      "70% finished\n",
      "75% finished\n",
      "80% finished\n",
      "85% finished\n",
      "90% finished\n",
      "95% finished\n",
      "100% finished\n",
      "                                        Before  \\\n",
      "177116         It's Definitely Not Chunky Soup   \n",
      "351105                      Tasteless and Hard   \n",
      "421436              Good, fresh, pliable beans   \n",
      "325735               My 3 cats wouldn't eat it   \n",
      "50097                      Awesome Coconut oil   \n",
      "106714                          Way Overpriced   \n",
      "517177  Great licorice flavor in a hard candy!   \n",
      "73605                         A slimmer Margie   \n",
      "233668                     horrible experience   \n",
      "110652     A little greasy but EXTREMELY tasty   \n",
      "\n",
      "                                        After  \n",
      "177116        it s definitely not chunky soup  \n",
      "351105                     tasteless and hard  \n",
      "421436                good fresh pliable bean  \n",
      "325735               my 3 cat wouldn t eat it  \n",
      "50097                     awesome coconut oil  \n",
      "106714                          way overprice  \n",
      "517177  great licorice flavor in a hard candy  \n",
      "73605                        a slimmer margie  \n",
      "233668                    horrible experience  \n",
      "110652    a little greasy but extremely tasty  \n"
     ]
    }
   ],
   "source": [
    "wnl = WordNetLemmatizer()\n",
    "x_train, x_test = lem_lower_pruning(x_train,x_test,wnl)"
   ]
  },
  {
   "cell_type": "markdown",
   "metadata": {},
   "source": [
    "## 3. Feature Extraction"
   ]
  },
  {
   "cell_type": "markdown",
   "metadata": {},
   "source": [
    "### 3.1 Uni-Gram"
   ]
  },
  {
   "cell_type": "code",
   "execution_count": 15,
   "metadata": {},
   "outputs": [],
   "source": [
    "unigram = CountVectorizer()\n",
    "x_uni = unigram.fit_transform(x_train)\n",
    "x_uni_test = unigram.transform(x_test)"
   ]
  },
  {
   "cell_type": "markdown",
   "metadata": {},
   "source": [
    "### 3.2 TF-IDF"
   ]
  },
  {
   "cell_type": "code",
   "execution_count": 16,
   "metadata": {},
   "outputs": [],
   "source": [
    "tf_idf_vect = TfidfVectorizer()\n",
    "x_tfidf = tf_idf_vect.fit_transform(x_train)\n",
    "x_tfidf_test = tf_idf_vect.transform(x_test)"
   ]
  },
  {
   "cell_type": "markdown",
   "metadata": {},
   "source": [
    "## 4. Fitting the models"
   ]
  },
  {
   "cell_type": "markdown",
   "metadata": {},
   "source": [
    "### 4.1 Result Plot and Analysis"
   ]
  },
  {
   "cell_type": "code",
   "execution_count": 17,
   "metadata": {},
   "outputs": [],
   "source": [
    "def formatt(x):\n",
    "    if x == 'negative':\n",
    "        return 0\n",
    "    return 1\n",
    "vfunc = np.vectorize(formatt)"
   ]
  },
  {
   "cell_type": "code",
   "execution_count": 18,
   "metadata": {},
   "outputs": [],
   "source": [
    "def result_plot(prediction):\n",
    "    cmp = 0\n",
    "    colors = ['b', 'g', 'y', 'm', 'k']\n",
    "    for model, predicted in prediction.items():\n",
    "        false_positive_rate, true_positive_rate, thresholds = roc_curve(y_test.map(formatt), vfunc(predicted))\n",
    "        roc_auc = auc(false_positive_rate, true_positive_rate)\n",
    "        plt.plot(false_positive_rate, true_positive_rate, colors[cmp], label='%s: AUC %0.2f'% (model,roc_auc))\n",
    "        cmp += 1\n",
    "\n",
    "    plt.title('Classifiers comparaison with ROC')\n",
    "    plt.legend(loc='lower right')\n",
    "    plt.plot([0,1],[0,1],'r--')\n",
    "    plt.xlim([-0.1,1.2])\n",
    "    plt.ylim([-0.1,1.2])\n",
    "    plt.ylabel('True Positive Rate')\n",
    "    plt.xlabel('False Positive Rate')\n",
    "    plt.show()"
   ]
  },
  {
   "cell_type": "markdown",
   "metadata": {},
   "source": [
    "### 4.2 Multinomial Naïve Bayes model"
   ]
  },
  {
   "cell_type": "code",
   "execution_count": 19,
   "metadata": {},
   "outputs": [],
   "source": [
    "prediction_mnb = dict()"
   ]
  },
  {
   "cell_type": "markdown",
   "metadata": {},
   "source": [
    "uni-Gram, bi-Gram, tfidf, uni-Gram and tfidf"
   ]
  },
  {
   "cell_type": "code",
   "execution_count": 20,
   "metadata": {},
   "outputs": [],
   "source": [
    "mnb_uni_model = MultinomialNB().fit(x_uni, y_train)\n",
    "prediction_mnb['Multinomial-NB-uni'] = mnb_uni_model.predict(x_uni_test)"
   ]
  },
  {
   "cell_type": "code",
   "execution_count": 35,
   "metadata": {},
   "outputs": [
    {
     "name": "stdout",
     "output_type": "stream",
     "text": [
      "uni-Gram F1-Score on test set: 0.857\n"
     ]
    }
   ],
   "source": [
    "print(\"uni-Gram F1-Score on test set: %0.3f\"%(f1_score(y_test, prediction_mnb['Multinomial-NB-uni'],average='macro')))"
   ]
  },
  {
   "cell_type": "code",
   "execution_count": 21,
   "metadata": {},
   "outputs": [],
   "source": [
    "mnb_tfidf_model = MultinomialNB().fit(x_tfidf, y_train)\n",
    "prediction_mnb['Multinomial-NB-tfidf'] = mnb_tfidf_model.predict(x_tfidf_test)"
   ]
  },
  {
   "cell_type": "code",
   "execution_count": 36,
   "metadata": {},
   "outputs": [
    {
     "name": "stdout",
     "output_type": "stream",
     "text": [
      "tfidf F1-Score on test set: 0.846\n"
     ]
    }
   ],
   "source": [
    "print(\"tfidf F1-Score on test set: %0.3f\"%(f1_score(y_test, prediction_mnb['Multinomial-NB-tfidf'],average='macro')))"
   ]
  },
  {
   "cell_type": "markdown",
   "metadata": {},
   "source": [
    "Result Analysis"
   ]
  },
  {
   "cell_type": "code",
   "execution_count": 22,
   "metadata": {},
   "outputs": [
    {
     "data": {
      "image/png": "[encoded data removed]",
      "text/plain": [
       "<Figure size 432x288 with 1 Axes>"
      ]
     },
     "metadata": {
      "needs_background": "light"
     },
     "output_type": "display_data"
    }
   ],
   "source": [
    "result_plot(prediction_mnb)"
   ]
  },
  {
   "cell_type": "markdown",
   "metadata": {},
   "source": [
    "### 4.3 Bernoulli Naïve Bayes model"
   ]
  },
  {
   "cell_type": "code",
   "execution_count": 23,
   "metadata": {},
   "outputs": [],
   "source": [
    "prediction_bnb = dict()"
   ]
  },
  {
   "cell_type": "markdown",
   "metadata": {},
   "source": [
    "uni-Gram, bi-Gram, tfidf, uni-Gram and tfidf"
   ]
  },
  {
   "cell_type": "code",
   "execution_count": 24,
   "metadata": {},
   "outputs": [],
   "source": [
    "bnb_uni_model = BernoulliNB().fit(x_uni, y_train)\n",
    "prediction_bnb['Bernoulli-NB-uni'] = bnb_uni_model.predict(x_uni_test)"
   ]
  },
  {
   "cell_type": "code",
   "execution_count": 37,
   "metadata": {},
   "outputs": [
    {
     "name": "stdout",
     "output_type": "stream",
     "text": [
      "uni-Gram F1-Score on test set: 0.858\n"
     ]
    }
   ],
   "source": [
    "print(\"uni-Gram F1-Score on test set: %0.3f\"%(f1_score(y_test, prediction_bnb['Bernoulli-NB-uni'],average='macro')))"
   ]
  },
  {
   "cell_type": "code",
   "execution_count": 25,
   "metadata": {},
   "outputs": [],
   "source": [
    "bnb_tfidf_model = BernoulliNB().fit(x_tfidf, y_train)\n",
    "prediction_bnb['Bernoulli-NB-tfidf'] = bnb_tfidf_model.predict(x_tfidf_test)"
   ]
  },
  {
   "cell_type": "code",
   "execution_count": 38,
   "metadata": {},
   "outputs": [
    {
     "name": "stdout",
     "output_type": "stream",
     "text": [
      "tfidf F1-Score on test set: 0.858\n"
     ]
    }
   ],
   "source": [
    "print(\"tfidf F1-Score on test set: %0.3f\"%(f1_score(y_test, prediction_bnb['Bernoulli-NB-tfidf'],average='macro')))"
   ]
  },
  {
   "cell_type": "markdown",
   "metadata": {},
   "source": [
    "Result Analysis"
   ]
  },
  {
   "cell_type": "code",
   "execution_count": 26,
   "metadata": {},
   "outputs": [
    {
     "data": {
      "image/png": "[encoded data removed]",
      "text/plain": [
       "<Figure size 432x288 with 1 Axes>"
      ]
     },
     "metadata": {
      "needs_background": "light"
     },
     "output_type": "display_data"
    }
   ],
   "source": [
    "result_plot(prediction_bnb)"
   ]
  },
  {
   "cell_type": "markdown",
   "metadata": {},
   "source": [
    "### 4.4 Logistic regression model"
   ]
  },
  {
   "cell_type": "code",
   "execution_count": 27,
   "metadata": {},
   "outputs": [],
   "source": [
    "prediction_lr = dict()"
   ]
  },
  {
   "cell_type": "markdown",
   "metadata": {},
   "source": [
    "uni-Gram, bi-Gram, tfidf, uni-Gram and tfidf"
   ]
  },
  {
   "cell_type": "code",
   "execution_count": 28,
   "metadata": {},
   "outputs": [],
   "source": [
    "lr_uni_model = LogisticRegression(C=1e5,n_jobs=-1)\n",
    "lr_uni_model.fit(x_uni, y_train)\n",
    "prediction_lr['Logistic_lr_uni'] = lr_uni_model.predict(x_uni_test)"
   ]
  },
  {
   "cell_type": "code",
   "execution_count": 39,
   "metadata": {},
   "outputs": [
    {
     "name": "stdout",
     "output_type": "stream",
     "text": [
      "uni-Gram F1-Score on test set: 0.861\n"
     ]
    }
   ],
   "source": [
    "print(\"uni-Gram F1-Score on test set: %0.3f\"%(f1_score(y_test, prediction_lr['Logistic_lr_uni'],average='macro')))"
   ]
  },
  {
   "cell_type": "code",
   "execution_count": 29,
   "metadata": {},
   "outputs": [],
   "source": [
    "lr_tfidf_model = LogisticRegression(C=1e5,n_jobs=-1).fit(x_tfidf, y_train)\n",
    "prediction_lr['Logistic_lr_tfidf'] = lr_tfidf_model.predict(x_tfidf_test)"
   ]
  },
  {
   "cell_type": "code",
   "execution_count": 40,
   "metadata": {},
   "outputs": [
    {
     "name": "stdout",
     "output_type": "stream",
     "text": [
      "tfidf F1-Score on test set: 0.860\n"
     ]
    }
   ],
   "source": [
    "print(\"tfidf F1-Score on test set: %0.3f\"%(f1_score(y_test, prediction_lr['Logistic_lr_tfidf'],average='macro')))"
   ]
  },
  {
   "cell_type": "markdown",
   "metadata": {},
   "source": [
    "Result Analysis"
   ]
  },
  {
   "cell_type": "code",
   "execution_count": 30,
   "metadata": {},
   "outputs": [
    {
     "data": {
      "image/png": "[encoded data removed]",
      "text/plain": [
       "<Figure size 432x288 with 1 Axes>"
      ]
     },
     "metadata": {
      "needs_background": "light"
     },
     "output_type": "display_data"
    }
   ],
   "source": [
    "result_plot(prediction_lr)"
   ]
  },
  {
   "cell_type": "markdown",
   "metadata": {},
   "source": [
    "### 4.5 SVM model"
   ]
  },
  {
   "cell_type": "code",
   "execution_count": 31,
   "metadata": {},
   "outputs": [],
   "source": [
    "prediction_svm = dict()"
   ]
  },
  {
   "cell_type": "code",
   "execution_count": 32,
   "metadata": {},
   "outputs": [],
   "source": [
    "svm_uni_model = SGDClassifier(n_jobs = -1).fit(x_uni, y_train)\n",
    "prediction_svm['svm_uni'] = svm_uni_model.predict(x_uni_test)"
   ]
  },
  {
   "cell_type": "code",
   "execution_count": 42,
   "metadata": {},
   "outputs": [
    {
     "name": "stdout",
     "output_type": "stream",
     "text": [
      "uni-Gram F1-Score on test set: 0.867\n"
     ]
    }
   ],
   "source": [
    "print(\"uni-Gram F1-Score on test set: %0.3f\"%(f1_score(y_test, prediction_svm['svm_uni'],average='macro')))"
   ]
  },
  {
   "cell_type": "code",
   "execution_count": 33,
   "metadata": {},
   "outputs": [],
   "source": [
    "svm_tfidf_model = SGDClassifier(n_jobs = -1).fit(x_tfidf, y_train)\n",
    "prediction_svm['svm_tfidf'] = svm_tfidf_model.predict(x_tfidf_test)"
   ]
  },
  {
   "cell_type": "code",
   "execution_count": 41,
   "metadata": {},
   "outputs": [
    {
     "name": "stdout",
     "output_type": "stream",
     "text": [
      "tfidf F1-Score on test set: 0.866\n"
     ]
    }
   ],
   "source": [
    "print(\"tfidf F1-Score on test set: %0.3f\"%(f1_score(y_test, prediction_svm['svm_tfidf'],average='macro')))"
   ]
  },
  {
   "cell_type": "markdown",
   "metadata": {},
   "source": [
    "Result Analysis"
   ]
  },
  {
   "cell_type": "code",
   "execution_count": 34,
   "metadata": {},
   "outputs": [
    {
     "data": {
      "image/png": "[encoded data removed]",
      "text/plain": [
       "<Figure size 432x288 with 1 Axes>"
      ]
     },
     "metadata": {
      "needs_background": "light"
     },
     "output_type": "display_data"
    }
   ],
   "source": [
    "result_plot(prediction_svm)"
   ]
  }
 ],
 "metadata": {
  "kernelspec": {
   "display_name": "Python 3",
   "language": "python",
   "name": "python3"
  },
  "language_info": {
   "codemirror_mode": {
    "name": "ipython",
    "version": 3
   },
   "file_extension": ".py",
   "mimetype": "text/x-python",
   "name": "python",
   "nbconvert_exporter": "python",
   "pygments_lexer": "ipython3",
   "version": "3.8.3"
  }
 },
 "nbformat": 4,
 "nbformat_minor": 1
}
